{
  "nbformat": 4,
  "nbformat_minor": 0,
  "metadata": {
    "colab": {
      "name": "titanic_tensorflow.ipynb",
      "provenance": [],
      "authorship_tag": "ABX9TyPW/d+uFAg7ZQJ3MkKNVvOT",
      "include_colab_link": true
    },
    "kernelspec": {
      "name": "python3",
      "display_name": "Python 3"
    }
  },
  "cells": [
    {
      "cell_type": "markdown",
      "metadata": {
        "id": "view-in-github",
        "colab_type": "text"
      },
      "source": [
        "<a href=\"https://colab.research.google.com/github/JakeSiewJK64/colabNotebooks/blob/master/titanic_tensorflow.ipynb\" target=\"_parent\"><img src=\"https://colab.research.google.com/assets/colab-badge.svg\" alt=\"Open In Colab\"/></a>"
      ]
    },
    {
      "cell_type": "code",
      "metadata": {
        "id": "erqY3mhssVWx"
      },
      "source": [
        "import tensorflow as tf\r\n",
        "import pandas as pd\r\n",
        "import numpy as np\r\n",
        "\r\n",
        "from tensorflow.keras.layers.experimental import preprocessing\r\n",
        "from tensorflow.keras import layers"
      ],
      "execution_count": 1,
      "outputs": []
    },
    {
      "cell_type": "code",
      "metadata": {
        "colab": {
          "base_uri": "https://localhost:8080/",
          "height": 204
        },
        "id": "HsSxJwiyR5nX",
        "outputId": "28050461-ec3c-4994-a1e7-18fdd03ffddf"
      },
      "source": [
        "url = \"https://storage.googleapis.com/tf-datasets/titanic/train.csv\"\r\n",
        "titanic_dataset = pd.read_csv(url)\r\n",
        "titanic_dataset.iloc[:5]\r\n",
        "\r\n",
        "pd.set_option('display.width', None)\r\n",
        "\r\n",
        "titanic_features = titanic_dataset.copy()\r\n",
        "titanic_labels = titanic_features.pop('survived')\r\n",
        "titanic_features.iloc[:5]"
      ],
      "execution_count": 36,
      "outputs": [
        {
          "output_type": "execute_result",
          "data": {
            "text/html": [
              "<div>\n",
              "<style scoped>\n",
              "    .dataframe tbody tr th:only-of-type {\n",
              "        vertical-align: middle;\n",
              "    }\n",
              "\n",
              "    .dataframe tbody tr th {\n",
              "        vertical-align: top;\n",
              "    }\n",
              "\n",
              "    .dataframe thead th {\n",
              "        text-align: right;\n",
              "    }\n",
              "</style>\n",
              "<table border=\"1\" class=\"dataframe\">\n",
              "  <thead>\n",
              "    <tr style=\"text-align: right;\">\n",
              "      <th></th>\n",
              "      <th>sex</th>\n",
              "      <th>age</th>\n",
              "      <th>n_siblings_spouses</th>\n",
              "      <th>parch</th>\n",
              "      <th>fare</th>\n",
              "      <th>class</th>\n",
              "      <th>deck</th>\n",
              "      <th>embark_town</th>\n",
              "      <th>alone</th>\n",
              "    </tr>\n",
              "  </thead>\n",
              "  <tbody>\n",
              "    <tr>\n",
              "      <th>0</th>\n",
              "      <td>male</td>\n",
              "      <td>22.0</td>\n",
              "      <td>1</td>\n",
              "      <td>0</td>\n",
              "      <td>7.2500</td>\n",
              "      <td>Third</td>\n",
              "      <td>unknown</td>\n",
              "      <td>Southampton</td>\n",
              "      <td>n</td>\n",
              "    </tr>\n",
              "    <tr>\n",
              "      <th>1</th>\n",
              "      <td>female</td>\n",
              "      <td>38.0</td>\n",
              "      <td>1</td>\n",
              "      <td>0</td>\n",
              "      <td>71.2833</td>\n",
              "      <td>First</td>\n",
              "      <td>C</td>\n",
              "      <td>Cherbourg</td>\n",
              "      <td>n</td>\n",
              "    </tr>\n",
              "    <tr>\n",
              "      <th>2</th>\n",
              "      <td>female</td>\n",
              "      <td>26.0</td>\n",
              "      <td>0</td>\n",
              "      <td>0</td>\n",
              "      <td>7.9250</td>\n",
              "      <td>Third</td>\n",
              "      <td>unknown</td>\n",
              "      <td>Southampton</td>\n",
              "      <td>y</td>\n",
              "    </tr>\n",
              "    <tr>\n",
              "      <th>3</th>\n",
              "      <td>female</td>\n",
              "      <td>35.0</td>\n",
              "      <td>1</td>\n",
              "      <td>0</td>\n",
              "      <td>53.1000</td>\n",
              "      <td>First</td>\n",
              "      <td>C</td>\n",
              "      <td>Southampton</td>\n",
              "      <td>n</td>\n",
              "    </tr>\n",
              "    <tr>\n",
              "      <th>4</th>\n",
              "      <td>male</td>\n",
              "      <td>28.0</td>\n",
              "      <td>0</td>\n",
              "      <td>0</td>\n",
              "      <td>8.4583</td>\n",
              "      <td>Third</td>\n",
              "      <td>unknown</td>\n",
              "      <td>Queenstown</td>\n",
              "      <td>y</td>\n",
              "    </tr>\n",
              "  </tbody>\n",
              "</table>\n",
              "</div>"
            ],
            "text/plain": [
              "      sex   age  n_siblings_spouses  parch  ...  class     deck  embark_town alone\n",
              "0    male  22.0                   1      0  ...  Third  unknown  Southampton     n\n",
              "1  female  38.0                   1      0  ...  First        C    Cherbourg     n\n",
              "2  female  26.0                   0      0  ...  Third  unknown  Southampton     y\n",
              "3  female  35.0                   1      0  ...  First        C  Southampton     n\n",
              "4    male  28.0                   0      0  ...  Third  unknown   Queenstown     y\n",
              "\n",
              "[5 rows x 9 columns]"
            ]
          },
          "metadata": {
            "tags": []
          },
          "execution_count": 36
        }
      ]
    },
    {
      "cell_type": "code",
      "metadata": {
        "colab": {
          "base_uri": "https://localhost:8080/"
        },
        "id": "3l7cNlGFspTj",
        "outputId": "726d9edb-6bd2-4422-e5e2-a7567a3fa4c5"
      },
      "source": [
        "titanic_labels.iloc[:5]"
      ],
      "execution_count": 34,
      "outputs": [
        {
          "output_type": "execute_result",
          "data": {
            "text/plain": [
              "0    0\n",
              "1    1\n",
              "2    1\n",
              "3    1\n",
              "4    0\n",
              "Name: survived, dtype: int64"
            ]
          },
          "metadata": {
            "tags": []
          },
          "execution_count": 34
        }
      ]
    },
    {
      "cell_type": "markdown",
      "metadata": {
        "id": "iq-7zj1L2jyw"
      },
      "source": [
        "# Example of Keras functional API\r\n"
      ]
    },
    {
      "cell_type": "code",
      "metadata": {
        "colab": {
          "base_uri": "https://localhost:8080/"
        },
        "id": "mmiZArzMvNYL",
        "outputId": "e3875467-aa9d-4cd8-af0c-52d5d9b7e1b4"
      },
      "source": [
        "# CREATE A SYMBOLIC INPUT\r\n",
        "input = tf.keras.Input(shape=(), dtype=tf.float32)\r\n",
        "print(input)\r\n",
        "result = 2 * input + 1\r\n",
        "print(result)"
      ],
      "execution_count": 41,
      "outputs": [
        {
          "output_type": "stream",
          "text": [
            "KerasTensor(type_spec=TensorSpec(shape=(None,), dtype=tf.float32, name='input_5'), name='input_5', description=\"created by layer 'input_5'\")\n",
            "KerasTensor(type_spec=TensorSpec(shape=(None,), dtype=tf.float32, name=None), name='tf.__operators__.add_2/AddV2:0', description=\"created by layer 'tf.__operators__.add_2'\")\n"
          ],
          "name": "stdout"
        }
      ]
    },
    {
      "cell_type": "code",
      "metadata": {
        "colab": {
          "base_uri": "https://localhost:8080/"
        },
        "id": "YQH5a1Jg1yT6",
        "outputId": "e23d66d9-81b2-45b4-d3d7-c1a193f14adf"
      },
      "source": [
        "calc = tf.keras.Model(inputs=input, outputs=result)\r\n",
        "print(\"1 * 2 + 1 = %d\" % calc(1).numpy())\r\n",
        "print(\"8 * 2 + 1 = %d\" % calc(8).numpy())"
      ],
      "execution_count": 46,
      "outputs": [
        {
          "output_type": "stream",
          "text": [
            "1 * 2 + 1 = 3\n",
            "8 * 2 + 1 = 17\n"
          ],
          "name": "stdout"
        }
      ]
    },
    {
      "cell_type": "code",
      "metadata": {
        "colab": {
          "base_uri": "https://localhost:8080/"
        },
        "id": "TRziwJye2CKj",
        "outputId": "cf2f3ba7-e212-4a4a-aef3-6be77d945b50"
      },
      "source": [
        "inputs = {}\r\n",
        "for name, col in titanic_features.items():\r\n",
        "    dtype = col.dtype\r\n",
        "    if dtype == object:\r\n",
        "        dtype = tf.string\r\n",
        "    else:\r\n",
        "        dtype = tf.float32\r\n",
        "\r\n",
        "    inputs[name] = tf.keras.Input(shape=(1,), name=name, dtype=dtype)\r\n",
        "inputs"
      ],
      "execution_count": 59,
      "outputs": [
        {
          "output_type": "execute_result",
          "data": {
            "text/plain": [
              "{'age': <KerasTensor: shape=(None, 1) dtype=float32 (created by layer 'age')>,\n",
              " 'alone': <KerasTensor: shape=(None, 1) dtype=string (created by layer 'alone')>,\n",
              " 'class': <KerasTensor: shape=(None, 1) dtype=string (created by layer 'class')>,\n",
              " 'deck': <KerasTensor: shape=(None, 1) dtype=string (created by layer 'deck')>,\n",
              " 'embark_town': <KerasTensor: shape=(None, 1) dtype=string (created by layer 'embark_town')>,\n",
              " 'fare': <KerasTensor: shape=(None, 1) dtype=float32 (created by layer 'fare')>,\n",
              " 'n_siblings_spouses': <KerasTensor: shape=(None, 1) dtype=float32 (created by layer 'n_siblings_spouses')>,\n",
              " 'parch': <KerasTensor: shape=(None, 1) dtype=float32 (created by layer 'parch')>,\n",
              " 'sex': <KerasTensor: shape=(None, 1) dtype=string (created by layer 'sex')>}"
            ]
          },
          "metadata": {
            "tags": []
          },
          "execution_count": 59
        }
      ]
    },
    {
      "cell_type": "code",
      "metadata": {
        "colab": {
          "base_uri": "https://localhost:8080/"
        },
        "id": "Z0e8D2V65ay4",
        "outputId": "484c56b3-131d-4709-e28f-24888cbe3041"
      },
      "source": [
        "numeric_inputs = {name:input for name, input in inputs.items() if input.dtype==tf.float32}\r\n",
        "for name, items in numeric_inputs.items():\r\n",
        "    print(name)"
      ],
      "execution_count": 72,
      "outputs": [
        {
          "output_type": "stream",
          "text": [
            "age\n",
            "n_siblings_spouses\n",
            "parch\n",
            "fare\n"
          ],
          "name": "stdout"
        }
      ]
    },
    {
      "cell_type": "code",
      "metadata": {
        "colab": {
          "base_uri": "https://localhost:8080/"
        },
        "id": "uOM96t7z8D8V",
        "outputId": "c684bb4f-2d4d-411f-fd80-c5e828457774"
      },
      "source": [
        "# CONCATENATE THE NUMERIC VALUES TOGETHER\r\n",
        "x = layers.Concatenate()(list(numeric_inputs.values()))\r\n",
        "\r\n",
        "# CREATING THE NORMALIZATION FUNCTION\r\n",
        "normalize = preprocessing.Normalization()\r\n",
        "normalize.adapt(np.array(titanic_dataset[numeric_inputs.keys()]))\r\n",
        "\r\n",
        "all_numeric_inputs = normalize(x)\r\n",
        "all_numeric_inputs\r\n",
        "\r\n",
        "preprocessed_inputs = [all_numeric_inputs]\r\n",
        "preprocessed_inputs"
      ],
      "execution_count": 73,
      "outputs": [
        {
          "output_type": "execute_result",
          "data": {
            "text/plain": [
              "[<KerasTensor: shape=(None, 4) dtype=float32 (created by layer 'normalization_4')>]"
            ]
          },
          "metadata": {
            "tags": []
          },
          "execution_count": 73
        }
      ]
    },
    {
      "cell_type": "code",
      "metadata": {
        "colab": {
          "base_uri": "https://localhost:8080/"
        },
        "id": "YfHqkSFH5jxA",
        "outputId": "68e88422-a925-44e4-9abd-725b913d7a38"
      },
      "source": [
        "for name, input in inputs.items():\r\n",
        "    if input.dtype == tf.float32:\r\n",
        "        continue\r\n",
        "    lookup = preprocessing.StringLookup(vocabulary=np.unique(titanic_features[name]))\r\n",
        "    one_hot = preprocessing.CategoryEncoding(max_tokens=lookup.vocab_size())\r\n",
        "    x = lookup(input)\r\n",
        "    x = one_hot(x)\r\n",
        "x"
      ],
      "execution_count": 77,
      "outputs": [
        {
          "output_type": "execute_result",
          "data": {
            "text/plain": [
              "<KerasTensor: shape=(None, 4) dtype=float32 (created by layer 'category_encoding_5')>"
            ]
          },
          "metadata": {
            "tags": []
          },
          "execution_count": 77
        }
      ]
    },
    {
      "cell_type": "code",
      "metadata": {
        "id": "gJZPBqDt85bA"
      },
      "source": [
        "preprocessed_inputs.append(x)"
      ],
      "execution_count": 78,
      "outputs": []
    },
    {
      "cell_type": "code",
      "metadata": {
        "colab": {
          "base_uri": "https://localhost:8080/",
          "height": 485
        },
        "id": "p2p8BUcQ9LU_",
        "outputId": "78087afb-2db1-467e-d02b-3c122585103d"
      },
      "source": [
        "preprocessed_inputs_cat = layers.Concatenate()(preprocessed_inputs)\r\n",
        "\r\n",
        "# BUILDING THE MODEL\r\n",
        "titanic_preprocessing = tf.keras.Model(inputs, preprocessed_inputs_cat)\r\n",
        "\r\n",
        "# PLOTTING THE MODEL\r\n",
        "tf.keras.utils.plot_model(model = titanic_preprocessing, rankdir='LR', dpi = 72, show_shapes=True)"
      ],
      "execution_count": 81,
      "outputs": [
        {
          "output_type": "execute_result",
          "data": {
            "image/png": "[encoded data removed]",
            "text/plain": [
              "<IPython.core.display.Image object>"
            ]
          },
          "metadata": {
            "tags": []
          },
          "execution_count": 81
        }
      ]
    },
    {
      "cell_type": "code",
      "metadata": {
        "id": "jJNCSMS69nkx"
      },
      "source": [
        "titanic_features_dict = {\r\n",
        "    name:np.array(value) for name, value in titanic_features.items()\r\n",
        "}"
      ],
      "execution_count": 83,
      "outputs": []
    },
    {
      "cell_type": "code",
      "metadata": {
        "colab": {
          "base_uri": "https://localhost:8080/"
        },
        "id": "xLjGtOde-eOP",
        "outputId": "0024f0c6-5877-4422-cee2-206d1ef3c5c9"
      },
      "source": [
        "# SLICE OUT THE SUVIVED LABEL TRAINING EXAMPLE AND PASS INTO PREPROCESSING MODEL\r\n",
        "features_dict = {name:values[:1] for name, values, in titanic_features_dict.items()}\r\n",
        "titanic_preprocessing(features_dict)"
      ],
      "execution_count": 88,
      "outputs": [
        {
          "output_type": "execute_result",
          "data": {
            "text/plain": [
              "<tf.Tensor: shape=(1, 8), dtype=float32, numpy=\n",
              "array([[-0.6104149 ,  0.39519805, -0.4790527 , -0.4974028 ,  0.        ,\n",
              "         0.        ,  1.        ,  0.        ]], dtype=float32)>"
            ]
          },
          "metadata": {
            "tags": []
          },
          "execution_count": 88
        }
      ]
    },
    {
      "cell_type": "code",
      "metadata": {
        "id": "jJD0rqTr-kKw"
      },
      "source": [
        "def titanic_model(preprocessing_head, inputs):\r\n",
        "    body = tf.keras.Sequential([\r\n",
        "        layers.Dense(64),\r\n",
        "        layers.Dense(1)\r\n",
        "    ])\r\n",
        "\r\n",
        "    preprocessed_inputs = preprocessing_head(inputs)\r\n",
        "    result = body(preprocessed_inputs)\r\n",
        "    model = tf.keras.Model(inputs, result)\r\n",
        "\r\n",
        "    model.compile(loss=tf.losses.BinaryCrossentropy(from_logits=True), optimizer=tf.optimizers.Adam())\r\n",
        "\r\n",
        "    return model"
      ],
      "execution_count": 99,
      "outputs": []
    },
    {
      "cell_type": "code",
      "metadata": {
        "id": "g1oclpHoACxf"
      },
      "source": [
        "titanic_model = titanic_model(titanic_preprocessing, inputs)"
      ],
      "execution_count": 100,
      "outputs": []
    },
    {
      "cell_type": "code",
      "metadata": {
        "colab": {
          "base_uri": "https://localhost:8080/"
        },
        "id": "ITj-6NKMAH7m",
        "outputId": "3f1f3d06-e2fa-4d93-c92b-e00776f3a39c"
      },
      "source": [
        "titanic_model.fit(x=titanic_features_dict, y=titanic_labels, epochs=10)"
      ],
      "execution_count": 102,
      "outputs": [
        {
          "output_type": "stream",
          "text": [
            "Epoch 1/10\n",
            "20/20 [==============================] - 1s 1ms/step - loss: 0.6504\n",
            "Epoch 2/10\n",
            "20/20 [==============================] - 0s 2ms/step - loss: 0.6123\n",
            "Epoch 3/10\n",
            "20/20 [==============================] - 0s 2ms/step - loss: 0.6079\n",
            "Epoch 4/10\n",
            "20/20 [==============================] - 0s 1ms/step - loss: 0.5913\n",
            "Epoch 5/10\n",
            "20/20 [==============================] - 0s 1ms/step - loss: 0.6087\n",
            "Epoch 6/10\n",
            "20/20 [==============================] - 0s 2ms/step - loss: 0.6108\n",
            "Epoch 7/10\n",
            "20/20 [==============================] - 0s 1ms/step - loss: 0.5920\n",
            "Epoch 8/10\n",
            "20/20 [==============================] - 0s 2ms/step - loss: 0.5868\n",
            "Epoch 9/10\n",
            "20/20 [==============================] - 0s 2ms/step - loss: 0.5835\n",
            "Epoch 10/10\n",
            "20/20 [==============================] - 0s 2ms/step - loss: 0.6059\n"
          ],
          "name": "stdout"
        },
        {
          "output_type": "execute_result",
          "data": {
            "text/plain": [
              "<tensorflow.python.keras.callbacks.History at 0x7f039c7d4d90>"
            ]
          },
          "metadata": {
            "tags": []
          },
          "execution_count": 102
        }
      ]
    },
    {
      "cell_type": "code",
      "metadata": {
        "colab": {
          "base_uri": "https://localhost:8080/"
        },
        "id": "PcxHxicmBSC-",
        "outputId": "1a64dd50-2156-465a-8359-41145ac6f08f"
      },
      "source": [
        "titanic_model.save('test')"
      ],
      "execution_count": 103,
      "outputs": [
        {
          "output_type": "stream",
          "text": [
            "INFO:tensorflow:Assets written to: test/assets\n"
          ],
          "name": "stdout"
        }
      ]
    },
    {
      "cell_type": "code",
      "metadata": {
        "colab": {
          "base_uri": "https://localhost:8080/"
        },
        "id": "IFtceuY3CDt1",
        "outputId": "c521de83-b814-4124-bf88-e3209d7bd4b5"
      },
      "source": [
        "reloaded = tf.keras.models.load_model('test')\r\n",
        "reloaded"
      ],
      "execution_count": 105,
      "outputs": [
        {
          "output_type": "execute_result",
          "data": {
            "text/plain": [
              "<tensorflow.python.keras.engine.functional.Functional at 0x7f0398e59750>"
            ]
          },
          "metadata": {
            "tags": []
          },
          "execution_count": 105
        }
      ]
    },
    {
      "cell_type": "code",
      "metadata": {
        "colab": {
          "base_uri": "https://localhost:8080/"
        },
        "id": "-22It1YLCIyu",
        "outputId": "da332498-ccd1-4266-ebe6-3fd7108e462e"
      },
      "source": [
        "features_dict = {name:values[:1] for name, values in titanic_features_dict.items()}\r\n",
        "features_dict"
      ],
      "execution_count": 107,
      "outputs": [
        {
          "output_type": "execute_result",
          "data": {
            "text/plain": [
              "{'age': array([22.]),\n",
              " 'alone': array(['n'], dtype=object),\n",
              " 'class': array(['Third'], dtype=object),\n",
              " 'deck': array(['unknown'], dtype=object),\n",
              " 'embark_town': array(['Southampton'], dtype=object),\n",
              " 'fare': array([7.25]),\n",
              " 'n_siblings_spouses': array([1]),\n",
              " 'parch': array([0]),\n",
              " 'sex': array(['male'], dtype=object)}"
            ]
          },
          "metadata": {
            "tags": []
          },
          "execution_count": 107
        }
      ]
    },
    {
      "cell_type": "code",
      "metadata": {
        "colab": {
          "base_uri": "https://localhost:8080/"
        },
        "id": "EoRigEpMCURl",
        "outputId": "483056c3-fa8e-4447-f415-eb1a734da8af"
      },
      "source": [
        "before = titanic_model(features_dict)\r\n",
        "after = reloaded(features_dict)\r\n",
        "print(before)\r\n",
        "print(after)"
      ],
      "execution_count": 110,
      "outputs": [
        {
          "output_type": "stream",
          "text": [
            "tf.Tensor([[-0.21285848]], shape=(1, 1), dtype=float32)\n",
            "tf.Tensor([[-0.21285848]], shape=(1, 1), dtype=float32)\n"
          ],
          "name": "stdout"
        }
      ]
    },
    {
      "cell_type": "code",
      "metadata": {
        "id": "yPbG541uCo51"
      },
      "source": [
        "import itertools\r\n",
        "\r\n",
        "def slices(features):\r\n",
        "    for i in itertools.count():\r\n",
        "        # FOR EACH FEATURE TAKE INDEX 'i'\r\n",
        "        example = {name:values[i] for name, values in features.items()}\r\n",
        "        yield example    "
      ],
      "execution_count": 111,
      "outputs": []
    },
    {
      "cell_type": "code",
      "metadata": {
        "colab": {
          "base_uri": "https://localhost:8080/"
        },
        "id": "ctmE0VP_UKoJ",
        "outputId": "959d04ef-d839-4535-e342-903d58e90f80"
      },
      "source": [
        "for example in slices(titanic_features_dict):\r\n",
        "    for name, value in example.items():\r\n",
        "        print(f\"{name:19s}: {value}\")\r\n",
        "    break"
      ],
      "execution_count": 113,
      "outputs": [
        {
          "output_type": "stream",
          "text": [
            "sex                : male\n",
            "age                : 22.0\n",
            "n_siblings_spouses : 1\n",
            "parch              : 0\n",
            "fare               : 7.25\n",
            "class              : Third\n",
            "deck               : unknown\n",
            "embark_town        : Southampton\n",
            "alone              : n\n"
          ],
          "name": "stdout"
        }
      ]
    },
    {
      "cell_type": "code",
      "metadata": {
        "colab": {
          "base_uri": "https://localhost:8080/"
        },
        "id": "J6qfFDGWUVmf",
        "outputId": "720e35e1-086a-4dae-af20-dd3612c85a34"
      },
      "source": [
        "features_ds = tf.data.Dataset.from_tensor_slices(titanic_features_dict)\r\n",
        "features_ds"
      ],
      "execution_count": 120,
      "outputs": [
        {
          "output_type": "execute_result",
          "data": {
            "text/plain": [
              "<TensorSliceDataset shapes: {sex: (), age: (), n_siblings_spouses: (), parch: (), fare: (), class: (), deck: (), embark_town: (), alone: ()}, types: {sex: tf.string, age: tf.float64, n_siblings_spouses: tf.int64, parch: tf.int64, fare: tf.float64, class: tf.string, deck: tf.string, embark_town: tf.string, alone: tf.string}>"
            ]
          },
          "metadata": {
            "tags": []
          },
          "execution_count": 120
        }
      ]
    },
    {
      "cell_type": "code",
      "metadata": {
        "colab": {
          "base_uri": "https://localhost:8080/"
        },
        "id": "cuWxJ_0HUpmP",
        "outputId": "760f0cc2-1535-41e7-a7a9-7445ee42a652"
      },
      "source": [
        "for example in features_ds:\r\n",
        "    for name, value in example.items():\r\n",
        "        print(f\"{name:19s}: {value}\")\r\n",
        "    break"
      ],
      "execution_count": 123,
      "outputs": [
        {
          "output_type": "stream",
          "text": [
            "sex                : b'male'\n",
            "age                : 22.0\n",
            "n_siblings_spouses : 1\n",
            "parch              : 0\n",
            "fare               : 7.25\n",
            "class              : b'Third'\n",
            "deck               : b'unknown'\n",
            "embark_town        : b'Southampton'\n",
            "alone              : b'n'\n"
          ],
          "name": "stdout"
        }
      ]
    },
    {
      "cell_type": "code",
      "metadata": {
        "colab": {
          "base_uri": "https://localhost:8080/"
        },
        "id": "4ZNSrjSTVHLP",
        "outputId": "0576b87d-1614-4605-b275-1ed3c8f7d23f"
      },
      "source": [
        "titanic_ds = tf.data.Dataset.from_tensor_slices((titanic_features_dict, titanic_labels))\r\n",
        "titanic_ds"
      ],
      "execution_count": 124,
      "outputs": [
        {
          "output_type": "execute_result",
          "data": {
            "text/plain": [
              "<TensorSliceDataset shapes: ({sex: (), age: (), n_siblings_spouses: (), parch: (), fare: (), class: (), deck: (), embark_town: (), alone: ()}, ()), types: ({sex: tf.string, age: tf.float64, n_siblings_spouses: tf.int64, parch: tf.int64, fare: tf.float64, class: tf.string, deck: tf.string, embark_town: tf.string, alone: tf.string}, tf.int64)>"
            ]
          },
          "metadata": {
            "tags": []
          },
          "execution_count": 124
        }
      ]
    },
    {
      "cell_type": "code",
      "metadata": {
        "id": "0eXXYL7ZVoon"
      },
      "source": [
        "titanic_batches = titanic_ds.shuffle(len(titanic_labels)).batch(32)"
      ],
      "execution_count": 125,
      "outputs": []
    },
    {
      "cell_type": "code",
      "metadata": {
        "colab": {
          "base_uri": "https://localhost:8080/"
        },
        "id": "BkXqzYpRV3gB",
        "outputId": "8f4d4009-451b-47bb-8c8e-502a9b82729b"
      },
      "source": [
        "titanic_model.fit(titanic_batches, epochs=10)"
      ],
      "execution_count": 130,
      "outputs": [
        {
          "output_type": "stream",
          "text": [
            "Epoch 1/10\n",
            "20/20 [==============================] - 0s 4ms/step - loss: 0.5924\n",
            "Epoch 2/10\n",
            "20/20 [==============================] - 0s 3ms/step - loss: 0.5946\n",
            "Epoch 3/10\n",
            "20/20 [==============================] - 0s 3ms/step - loss: 0.5928\n",
            "Epoch 4/10\n",
            "20/20 [==============================] - 0s 3ms/step - loss: 0.5929\n",
            "Epoch 5/10\n",
            "20/20 [==============================] - 0s 3ms/step - loss: 0.5930\n",
            "Epoch 6/10\n",
            "20/20 [==============================] - 0s 3ms/step - loss: 0.5929\n",
            "Epoch 7/10\n",
            "20/20 [==============================] - 0s 3ms/step - loss: 0.5924\n",
            "Epoch 8/10\n",
            "20/20 [==============================] - 0s 3ms/step - loss: 0.5933\n",
            "Epoch 9/10\n",
            "20/20 [==============================] - 0s 3ms/step - loss: 0.5926\n",
            "Epoch 10/10\n",
            "20/20 [==============================] - 0s 3ms/step - loss: 0.5927\n"
          ],
          "name": "stdout"
        },
        {
          "output_type": "execute_result",
          "data": {
            "text/plain": [
              "<tensorflow.python.keras.callbacks.History at 0x7f0398803dd0>"
            ]
          },
          "metadata": {
            "tags": []
          },
          "execution_count": 130
        }
      ]
    },
    {
      "cell_type": "code",
      "metadata": {
        "colab": {
          "base_uri": "https://localhost:8080/"
        },
        "id": "j59z6hsUV7FI",
        "outputId": "05b011a0-1cd7-4304-b71c-437c0f2c59e1"
      },
      "source": [
        "# READING CSV FILES USING KERAS UTILS GET FILE FUNCTION\r\n",
        "titanic_file_path = tf.keras.utils.get_file('train.csv', \"https://storage.googleapis.com/tf-datasets/titanic/train.csv\")\r\n",
        "print(titanic_file_path)"
      ],
      "execution_count": 133,
      "outputs": [
        {
          "output_type": "stream",
          "text": [
            "/root/.keras/datasets/train.csv\n"
          ],
          "name": "stdout"
        }
      ]
    },
    {
      "cell_type": "code",
      "metadata": {
        "colab": {
          "base_uri": "https://localhost:8080/"
        },
        "id": "GGqjxBKPWTRn",
        "outputId": "baab45c3-69d2-4a92-8b82-6c5ded2c267e"
      },
      "source": [
        "titanic_csv_ds = tf.data.experimental.make_csv_dataset(\r\n",
        "    file_pattern=titanic_file_path,\r\n",
        "    batch_size=5, \r\n",
        "    label_name='survived',\r\n",
        "    num_epochs=10,\r\n",
        "    ignore_errors=False\r\n",
        ")\r\n",
        "titanic_csv_ds"
      ],
      "execution_count": 135,
      "outputs": [
        {
          "output_type": "execute_result",
          "data": {
            "text/plain": [
              "<PrefetchDataset shapes: (OrderedDict([(sex, (None,)), (age, (None,)), (n_siblings_spouses, (None,)), (parch, (None,)), (fare, (None,)), (class, (None,)), (deck, (None,)), (embark_town, (None,)), (alone, (None,))]), (None,)), types: (OrderedDict([(sex, tf.string), (age, tf.float32), (n_siblings_spouses, tf.int32), (parch, tf.int32), (fare, tf.float32), (class, tf.string), (deck, tf.string), (embark_town, tf.string), (alone, tf.string)]), tf.int32)>"
            ]
          },
          "metadata": {
            "tags": []
          },
          "execution_count": 135
        }
      ]
    },
    {
      "cell_type": "code",
      "metadata": {
        "colab": {
          "base_uri": "https://localhost:8080/"
        },
        "id": "W23kidi9W84p",
        "outputId": "a2e8aef1-e7ec-419b-b084-bab5cf8f3816"
      },
      "source": [
        "for batch, label in titanic_csv_ds.take(1):\r\n",
        "    for key, value in batch.items():\r\n",
        "        print(f\"{key:20s}:{value}\")\r\n",
        "    print(f\"\\n{'label':20s}: {label}\")\r\n"
      ],
      "execution_count": 136,
      "outputs": [
        {
          "output_type": "stream",
          "text": [
            "sex                 :[b'female' b'male' b'male' b'female' b'female']\n",
            "age                 :[34. 40. 28. 28. 39.]\n",
            "n_siblings_spouses  :[0 0 8 1 1]\n",
            "parch               :[0 0 2 0 5]\n",
            "fare                :[13.     27.7208 69.55   24.15   31.275 ]\n",
            "class               :[b'Second' b'First' b'Third' b'Third' b'Third']\n",
            "deck                :[b'unknown' b'unknown' b'unknown' b'unknown' b'unknown']\n",
            "embark_town         :[b'Southampton' b'Cherbourg' b'Southampton' b'Queenstown' b'Southampton']\n",
            "alone               :[b'y' b'y' b'n' b'n' b'n']\n",
            "\n",
            "label               : [1 0 0 1 0]\n"
          ],
          "name": "stdout"
        }
      ]
    },
    {
      "cell_type": "code",
      "metadata": {
        "id": "5YtIxffQXWL4"
      },
      "source": [
        ""
      ],
      "execution_count": null,
      "outputs": []
    }
  ]
}