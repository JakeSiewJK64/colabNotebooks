{
  "nbformat": 4,
  "nbformat_minor": 0,
  "metadata": {
    "colab": {
      "name": "NeuralNetworksClothingImageClassification",
      "provenance": [],
      "collapsed_sections": [],
      "authorship_tag": "ABX9TyOKzAm9RfhXprPcvH4cHQpW",
      "include_colab_link": true
    },
    "kernelspec": {
      "name": "python3",
      "display_name": "Python 3"
    }
  },
  "cells": [
    {
      "cell_type": "markdown",
      "metadata": {
        "id": "view-in-github",
        "colab_type": "text"
      },
      "source": [
        "<a href=\"https://colab.research.google.com/github/JakeSiewJK64/colabNotebooks/blob/master/NeuralNetworksClothingImageClassification.ipynb\" target=\"_parent\"><img src=\"https://colab.research.google.com/assets/colab-badge.svg\" alt=\"Open In Colab\"/></a>"
      ]
    },
    {
      "cell_type": "code",
      "metadata": {
        "id": "Tm6_exOJtauV"
      },
      "source": [
        "%tensorflow_version 2.x\r\n",
        "\r\n",
        "# import main packages\r\n",
        "import tensorflow as tf\r\n",
        "import tensorflow.keras as keras\r\n",
        "\r\n",
        "# helper libraries\r\n",
        "import numpy as np\r\n",
        "import matplotlib.pyplot as plt"
      ],
      "execution_count": 5,
      "outputs": []
    },
    {
      "cell_type": "markdown",
      "metadata": {
        "id": "HCVVPlob20sP"
      },
      "source": [
        "## Loading the dataset"
      ]
    },
    {
      "cell_type": "code",
      "metadata": {
        "colab": {
          "base_uri": "https://localhost:8080/"
        },
        "id": "vXON5BAv2P_4",
        "outputId": "5091bdc0-7ed6-49a3-f6b4-50c160ec8a71"
      },
      "source": [
        "fashion_mnist = keras.datasets.fashion_mnist\r\n",
        "fashion_mnist"
      ],
      "execution_count": 9,
      "outputs": [
        {
          "output_type": "execute_result",
          "data": {
            "text/plain": [
              "<module 'tensorflow.keras.datasets.fashion_mnist' from '/usr/local/lib/python3.6/dist-packages/tensorflow/keras/datasets/fashion_mnist/__init__.py'>"
            ]
          },
          "metadata": {
            "tags": []
          },
          "execution_count": 9
        }
      ]
    },
    {
      "cell_type": "markdown",
      "metadata": {
        "id": "kPn8DgLz3Egy"
      },
      "source": [
        "## Train Test Split"
      ]
    },
    {
      "cell_type": "code",
      "metadata": {
        "colab": {
          "base_uri": "https://localhost:8080/"
        },
        "id": "Xh4TbH2M2799",
        "outputId": "6ad43e7f-897b-48be-83c6-04300770abb7"
      },
      "source": [
        "(train_images, train_labels), (test_images, test_labels) = fashion_mnist.load_data()"
      ],
      "execution_count": 10,
      "outputs": [
        {
          "output_type": "stream",
          "text": [
            "Downloading data from https://storage.googleapis.com/tensorflow/tf-keras-datasets/train-labels-idx1-ubyte.gz\n",
            "32768/29515 [=================================] - 0s 0us/step\n",
            "Downloading data from https://storage.googleapis.com/tensorflow/tf-keras-datasets/train-images-idx3-ubyte.gz\n",
            "26427392/26421880 [==============================] - 0s 0us/step\n",
            "Downloading data from https://storage.googleapis.com/tensorflow/tf-keras-datasets/t10k-labels-idx1-ubyte.gz\n",
            "8192/5148 [===============================================] - 0s 0us/step\n",
            "Downloading data from https://storage.googleapis.com/tensorflow/tf-keras-datasets/t10k-images-idx3-ubyte.gz\n",
            "4423680/4422102 [==============================] - 0s 0us/step\n"
          ],
          "name": "stdout"
        }
      ]
    },
    {
      "cell_type": "code",
      "metadata": {
        "colab": {
          "base_uri": "https://localhost:8080/"
        },
        "id": "_V9PynOp3PTt",
        "outputId": "5114f7e9-b9dc-4239-ae03-87b18b4b5b25"
      },
      "source": [
        "print(\"Shape: {}\".format(train_images.shape))\r\n",
        "print(\"Type: {}\".format(type(train_images)))\r\n",
        "# 60,000 images with 28 x 28 each"
      ],
      "execution_count": 18,
      "outputs": [
        {
          "output_type": "stream",
          "text": [
            "Shape: (60000, 28, 28)\n",
            "Type: <class 'numpy.ndarray'>\n"
          ],
          "name": "stdout"
        }
      ]
    },
    {
      "cell_type": "code",
      "metadata": {
        "colab": {
          "base_uri": "https://localhost:8080/"
        },
        "id": "VvKxQK1v3Y2N",
        "outputId": "1908f405-abe3-445c-a572-701b0d1e5a5d"
      },
      "source": [
        "train_images[0,23,23]\r\n",
        "# grayscale image\r\n",
        "# 0 to 255\r\n",
        "# we can deal with as long as there is an RGB value"
      ],
      "execution_count": 23,
      "outputs": [
        {
          "output_type": "execute_result",
          "data": {
            "text/plain": [
              "194"
            ]
          },
          "metadata": {
            "tags": []
          },
          "execution_count": 23
        }
      ]
    },
    {
      "cell_type": "code",
      "metadata": {
        "colab": {
          "base_uri": "https://localhost:8080/"
        },
        "id": "pp8yYM023_9l",
        "outputId": "515a70ac-de6b-48c7-fc2d-e28bd827c2e8"
      },
      "source": [
        "print(train_images)"
      ],
      "execution_count": 24,
      "outputs": [
        {
          "output_type": "stream",
          "text": [
            "[[[0 0 0 ... 0 0 0]\n",
            "  [0 0 0 ... 0 0 0]\n",
            "  [0 0 0 ... 0 0 0]\n",
            "  ...\n",
            "  [0 0 0 ... 0 0 0]\n",
            "  [0 0 0 ... 0 0 0]\n",
            "  [0 0 0 ... 0 0 0]]\n",
            "\n",
            " [[0 0 0 ... 0 0 0]\n",
            "  [0 0 0 ... 0 0 0]\n",
            "  [0 0 0 ... 0 0 0]\n",
            "  ...\n",
            "  [0 0 0 ... 0 0 0]\n",
            "  [0 0 0 ... 0 0 0]\n",
            "  [0 0 0 ... 0 0 0]]\n",
            "\n",
            " [[0 0 0 ... 0 0 0]\n",
            "  [0 0 0 ... 0 0 0]\n",
            "  [0 0 0 ... 0 0 0]\n",
            "  ...\n",
            "  [0 0 0 ... 0 0 0]\n",
            "  [0 0 0 ... 0 0 0]\n",
            "  [0 0 0 ... 0 0 0]]\n",
            "\n",
            " ...\n",
            "\n",
            " [[0 0 0 ... 0 0 0]\n",
            "  [0 0 0 ... 0 0 0]\n",
            "  [0 0 0 ... 0 0 0]\n",
            "  ...\n",
            "  [0 0 0 ... 0 0 0]\n",
            "  [0 0 0 ... 0 0 0]\n",
            "  [0 0 0 ... 0 0 0]]\n",
            "\n",
            " [[0 0 0 ... 0 0 0]\n",
            "  [0 0 0 ... 0 0 0]\n",
            "  [0 0 0 ... 0 0 0]\n",
            "  ...\n",
            "  [0 0 0 ... 0 0 0]\n",
            "  [0 0 0 ... 0 0 0]\n",
            "  [0 0 0 ... 0 0 0]]\n",
            "\n",
            " [[0 0 0 ... 0 0 0]\n",
            "  [0 0 0 ... 0 0 0]\n",
            "  [0 0 0 ... 0 0 0]\n",
            "  ...\n",
            "  [0 0 0 ... 0 0 0]\n",
            "  [0 0 0 ... 0 0 0]\n",
            "  [0 0 0 ... 0 0 0]]]\n"
          ],
          "name": "stdout"
        }
      ]
    },
    {
      "cell_type": "code",
      "metadata": {
        "colab": {
          "base_uri": "https://localhost:8080/"
        },
        "id": "i4tMIIB14KUN",
        "outputId": "81fb0279-b661-47b7-facb-8b4466f5af9f"
      },
      "source": [
        "train_labels[:10]\r\n",
        "# we have 10 different types of clothing"
      ],
      "execution_count": 26,
      "outputs": [
        {
          "output_type": "execute_result",
          "data": {
            "text/plain": [
              "array([9, 0, 0, 3, 0, 2, 7, 2, 5, 5], dtype=uint8)"
            ]
          },
          "metadata": {
            "tags": []
          },
          "execution_count": 26
        }
      ]
    },
    {
      "cell_type": "markdown",
      "metadata": {
        "id": "-DJxhGo35Vdo"
      },
      "source": [
        "## Creating a list of classes"
      ]
    },
    {
      "cell_type": "code",
      "metadata": {
        "id": "ZtaLS8lI4bxM"
      },
      "source": [
        "class_names = ['T-Shirt/top', 'Trousers', 'Pullover', 'Dress', 'Coat', 'Sandal', 'Shirt', \r\n",
        "               'Sneaker', 'Bag', 'Ankle Boot']"
      ],
      "execution_count": 27,
      "outputs": []
    },
    {
      "cell_type": "markdown",
      "metadata": {
        "id": "yMBdIJzn5rgh"
      },
      "source": [
        "## Displaying images using matplotlib"
      ]
    },
    {
      "cell_type": "code",
      "metadata": {
        "colab": {
          "base_uri": "https://localhost:8080/",
          "height": 268
        },
        "id": "xCbYQ0R65lok",
        "outputId": "f3865769-b67c-4f9a-eacd-6c3b87ffec0c"
      },
      "source": [
        "plt.figure() # create a figure\r\n",
        "plt.imshow(train_images[500]) # show the image\r\n",
        "plt.colorbar() # display with color (optional)\r\n",
        "plt.grid(False) # say you don;t want a grid (optional)\r\n",
        "plt.show() # plot the graph/image"
      ],
      "execution_count": 63,
      "outputs": [
        {
          "output_type": "display_data",
          "data": {
            "image/png": "[encoded data removed]",
            "text/plain": [
              "<Figure size 432x288 with 2 Axes>"
            ]
          },
          "metadata": {
            "tags": [],
            "needs_background": "light"
          }
        }
      ]
    },
    {
      "cell_type": "markdown",
      "metadata": {
        "id": "g2GoITu36W3s"
      },
      "source": [
        "## Data Preprocessing\r\n",
        "- This is so that smaller values will be easier to process\r\n",
        "- We can do this by dividing the 255 hex value by 255 so that it is between 0 to 1."
      ]
    },
    {
      "cell_type": "code",
      "metadata": {
        "id": "UgLwVEGh52Fc"
      },
      "source": [
        "train_images = train_images / 255.0\r\n",
        "test_imags = test_images / 255.0"
      ],
      "execution_count": 39,
      "outputs": []
    },
    {
      "cell_type": "markdown",
      "metadata": {
        "id": "Y0hZgWy_7Cw5"
      },
      "source": [
        "## Creating the model\r\n",
        "- using Keras Sequential Model\r\n"
      ]
    },
    {
      "cell_type": "code",
      "metadata": {
        "id": "VCWg3Yb-6xgE"
      },
      "source": [
        "model = keras.Sequential([\r\n",
        "  keras.layers.Flatten(input_shape=(28,28)), # input (28 x 28 = 784 neurons) make into 1d\r\n",
        "  keras.layers.Dense(128, activation='relu'), # hidden layer (128 neurons)\r\n",
        "  keras.layers.Dense(10, activation='softmax')]) # output layer (10 neurons) makes sure tht the values add up between 0 to 1"
      ],
      "execution_count": 41,
      "outputs": []
    },
    {
      "cell_type": "markdown",
      "metadata": {
        "id": "4CBgyn8q70F0"
      },
      "source": [
        "## Compile the model\r\n",
        "- defining the loss/cost function\r\n",
        "- defining theoptimizer\r\n",
        "- defining the metrics\r\n"
      ]
    },
    {
      "cell_type": "markdown",
      "metadata": {
        "id": "4ehNe69eAC3Q"
      },
      "source": [
        "## Hyperparameter Tuning"
      ]
    },
    {
      "cell_type": "code",
      "metadata": {
        "id": "GdySsXmo7e3R"
      },
      "source": [
        "model.compile(optimizer='adam',\r\n",
        "              loss='sparse_categorical_crossentropy',\r\n",
        "              metrics=['accuracy'])"
      ],
      "execution_count": 42,
      "outputs": []
    },
    {
      "cell_type": "markdown",
      "metadata": {
        "id": "kskkuJXX8IaK"
      },
      "source": [
        "## Training the model\r\n",
        "P.S. Usually training and fit are interchangeable "
      ]
    },
    {
      "cell_type": "code",
      "metadata": {
        "colab": {
          "base_uri": "https://localhost:8080/"
        },
        "id": "tDkS6L2r8HH7",
        "outputId": "198f7189-3cc0-4b85-a4b2-44e2e444650b"
      },
      "source": [
        "model.fit(train_images, train_labels, epochs=10)"
      ],
      "execution_count": 68,
      "outputs": [
        {
          "output_type": "stream",
          "text": [
            "Epoch 1/10\n",
            "1875/1875 [==============================] - 4s 2ms/step - loss: 0.1781 - accuracy: 0.9322\n",
            "Epoch 2/10\n",
            "1875/1875 [==============================] - 4s 2ms/step - loss: 0.1741 - accuracy: 0.9340\n",
            "Epoch 3/10\n",
            "1875/1875 [==============================] - 4s 2ms/step - loss: 0.1713 - accuracy: 0.9351\n",
            "Epoch 4/10\n",
            "1875/1875 [==============================] - 4s 2ms/step - loss: 0.1669 - accuracy: 0.9367\n",
            "Epoch 5/10\n",
            "1875/1875 [==============================] - 4s 2ms/step - loss: 0.1610 - accuracy: 0.9390\n",
            "Epoch 6/10\n",
            "1875/1875 [==============================] - 4s 2ms/step - loss: 0.1569 - accuracy: 0.9405\n",
            "Epoch 7/10\n",
            "1875/1875 [==============================] - 4s 2ms/step - loss: 0.1540 - accuracy: 0.9421\n",
            "Epoch 8/10\n",
            "1875/1875 [==============================] - 4s 2ms/step - loss: 0.1489 - accuracy: 0.9432\n",
            "Epoch 9/10\n",
            "1875/1875 [==============================] - 4s 2ms/step - loss: 0.1489 - accuracy: 0.9438\n",
            "Epoch 10/10\n",
            "1875/1875 [==============================] - 4s 2ms/step - loss: 0.1441 - accuracy: 0.9450\n"
          ],
          "name": "stdout"
        },
        {
          "output_type": "execute_result",
          "data": {
            "text/plain": [
              "<tensorflow.python.keras.callbacks.History at 0x7f27a4407978>"
            ]
          },
          "metadata": {
            "tags": []
          },
          "execution_count": 68
        }
      ]
    },
    {
      "cell_type": "markdown",
      "metadata": {
        "id": "RKi1nQ468e0G"
      },
      "source": [
        "## evalutating the model\r\n",
        "- using built-in method from Keras\r\n",
        "- using tensorflow evaluate method .evaluate()"
      ]
    },
    {
      "cell_type": "markdown",
      "metadata": {
        "id": "YoXO6JZJAvyg"
      },
      "source": [
        "<hr>\r\n",
        "Verbose:\r\n",
        "- how much is printing to the console\r\n",
        "- how much information are we going to see\r\n",
        "- are we looking at output"
      ]
    },
    {
      "cell_type": "code",
      "metadata": {
        "colab": {
          "base_uri": "https://localhost:8080/"
        },
        "id": "cC5oFp2f8PKL",
        "outputId": "80030ae3-b5bc-41d4-99f5-352b13a6c97b"
      },
      "source": [
        "test_loss, test_accuracy = model.evaluate(test_images, test_labels, verbose=1)\r\n",
        "print('Test Accuracy: {:.4f} '.format(test_accuracy))"
      ],
      "execution_count": 69,
      "outputs": [
        {
          "output_type": "stream",
          "text": [
            "313/313 [==============================] - 0s 1ms/step - loss: 96.2234 - accuracy: 0.8613\n",
            "Test Accuracy: 0.8613 \n"
          ],
          "name": "stdout"
        }
      ]
    },
    {
      "cell_type": "markdown",
      "metadata": {
        "id": "4Bzpej2n97GL"
      },
      "source": [
        "## Making Predictions\r\n"
      ]
    },
    {
      "cell_type": "code",
      "metadata": {
        "colab": {
          "base_uri": "https://localhost:8080/"
        },
        "id": "lBBWb48w80d7",
        "outputId": "6a5cf984-e373-426a-eb8a-ec2526d1fbc9"
      },
      "source": [
        "predictions = model.predict(test_images)\r\n",
        "outcome = np.argmax(predictions[0]) # np.argmax() returns the index with the highest value\r\n",
        "print(\"Prediction for first image: \", class_names[outcome])"
      ],
      "execution_count": 87,
      "outputs": [
        {
          "output_type": "stream",
          "text": [
            "Prediction for first image:  Ankle Boot\n"
          ],
          "name": "stdout"
        }
      ]
    },
    {
      "cell_type": "code",
      "metadata": {
        "colab": {
          "base_uri": "https://localhost:8080/",
          "height": 265
        },
        "id": "yn6SRzpbBpIn",
        "outputId": "827efed4-b2c1-4c0a-fdc2-2868ad42d6a1"
      },
      "source": [
        "plt.figure()\r\n",
        "plt.imshow(test_images[outcome])\r\n",
        "plt.colorbar()\r\n",
        "plt.grid(True)\r\n",
        "plt.show()"
      ],
      "execution_count": 90,
      "outputs": [
        {
          "output_type": "display_data",
          "data": {
            "image/png": "[encoded data removed]",
            "text/plain": [
              "<Figure size 432x288 with 2 Axes>"
            ]
          },
          "metadata": {
            "tags": [],
            "needs_background": "light"
          }
        }
      ]
    },
    {
      "cell_type": "markdown",
      "metadata": {
        "id": "ZQAlma0-FHsz"
      },
      "source": [
        "## Example application for the above Seuqential Neural Network Script"
      ]
    },
    {
      "cell_type": "code",
      "metadata": {
        "id": "g7NwufnWCzhp"
      },
      "source": [
        "COLOR = 'white'\r\n",
        "plt.rcParams['text.color'] = COLOR\r\n",
        "plt.rcParams['axes.labelcolor'] = COLOR\r\n",
        "\r\n",
        "def predict(model, images, correct_labels):\r\n",
        "  prediction = model.predict(np.array([image]))\r\n",
        "  predicted_class = class_names[np.argmax(prediction)]\r\n",
        "  show_image(image, class_names[correct_labels], predicted_class)"
      ],
      "execution_count": 93,
      "outputs": []
    },
    {
      "cell_type": "code",
      "metadata": {
        "id": "NpHdAGRkFkGR"
      },
      "source": [
        "# function that will display the image in proper format\r\n",
        "def show_image(img, class_name, predicted_class):\r\n",
        "  plt.figure()\r\n",
        "  plt.imshow(img, cmap=plt.cm.binary)\r\n",
        "  plt.colorbar()  \r\n",
        "  plt.title(\"Expected: {}\".format(class_name))\r\n",
        "  plt.xlabel(\"Guess: {}\".format(predicted_class))\r\n",
        "  plt.grid(False)"
      ],
      "execution_count": 98,
      "outputs": []
    },
    {
      "cell_type": "code",
      "metadata": {
        "colab": {
          "base_uri": "https://localhost:8080/",
          "height": 311
        },
        "id": "G14GuYa8GvGI",
        "outputId": "c8b672dd-201c-4d44-99b2-f781f3a8fa1e"
      },
      "source": [
        "# function to get a number\r\n",
        "def get_number():\r\n",
        "  while True:\r\n",
        "    num = input(\"Pick a number: \")\r\n",
        "    if num.isdigit():\r\n",
        "      num = int(num) # cast input type to int\r\n",
        "      if 0 <= num <= 1000:\r\n",
        "        return int(num)\r\n",
        "      else:\r\n",
        "        print(\"Type another number.\")\r\n",
        "num = get_number()\r\n",
        "image = test_images[num]\r\n",
        "label = test_labels[num]\r\n",
        "predict(model, image, label)"
      ],
      "execution_count": 102,
      "outputs": [
        {
          "output_type": "stream",
          "text": [
            "Pick a number: 3\n"
          ],
          "name": "stdout"
        },
        {
          "output_type": "display_data",
          "data": {
            "image/png": "[encoded data removed]",
            "text/plain": [
              "<Figure size 432x288 with 2 Axes>"
            ]
          },
          "metadata": {
            "tags": [],
            "needs_background": "light"
          }
        }
      ]
    },
    {
      "cell_type": "code",
      "metadata": {
        "id": "ro5PAwNlHXGf"
      },
      "source": [
        ""
      ],
      "execution_count": null,
      "outputs": []
    }
  ]
}