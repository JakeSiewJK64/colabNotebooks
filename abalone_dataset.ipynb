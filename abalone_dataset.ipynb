{
  "nbformat": 4,
  "nbformat_minor": 0,
  "metadata": {
    "colab": {
      "name": "abalone_dataset.ipynb",
      "provenance": [],
      "authorship_tag": "ABX9TyPbvUHaY4BdbAPT+iR79nff",
      "include_colab_link": true
    },
    "kernelspec": {
      "name": "python3",
      "display_name": "Python 3"
    }
  },
  "cells": [
    {
      "cell_type": "markdown",
      "metadata": {
        "id": "view-in-github",
        "colab_type": "text"
      },
      "source": [
        "<a href=\"https://colab.research.google.com/github/JakeSiewJK64/colabNotebooks/blob/master/abalone_dataset.ipynb\" target=\"_parent\"><img src=\"https://colab.research.google.com/assets/colab-badge.svg\" alt=\"Open In Colab\"/></a>"
      ]
    },
    {
      "cell_type": "code",
      "metadata": {
        "id": "8_NSeq5BCM_3"
      },
      "source": [
        "import pandas as pd\r\n",
        "import numpy as np\r\n",
        "\r\n",
        "# SET NUMPY VALUES EASIER TO READ\r\n",
        "np.set_printoptions(precision=3, suppress=True)\r\n",
        "import tensorflow as tf\r\n",
        "from tensorflow.keras import layers\r\n",
        "from tensorflow.keras.layers.experimental import preprocessing"
      ],
      "execution_count": 15,
      "outputs": []
    },
    {
      "cell_type": "code",
      "metadata": {
        "colab": {
          "base_uri": "https://localhost:8080/",
          "height": 198
        },
        "id": "MErBi2ZkGxt-",
        "outputId": "819e808e-e1f4-41c2-99f4-f41d7f004f3e"
      },
      "source": [
        "abalone_train = pd.read_csv(\"https://storage.googleapis.com/download.tensorflow.org/data/abalone_train.csv\", \r\n",
        "    names=[\"Length\", \"Diameter\", \"Height\", \"Whole weight\", \"Shucked weight\",\r\n",
        "           \"Viscera weight\", \"Shell weight\", \"Age\"])\r\n",
        "abalone_train.iloc[:5]"
      ],
      "execution_count": 20,
      "outputs": [
        {
          "output_type": "execute_result",
          "data": {
            "text/html": [
              "<div>\n",
              "<style scoped>\n",
              "    .dataframe tbody tr th:only-of-type {\n",
              "        vertical-align: middle;\n",
              "    }\n",
              "\n",
              "    .dataframe tbody tr th {\n",
              "        vertical-align: top;\n",
              "    }\n",
              "\n",
              "    .dataframe thead th {\n",
              "        text-align: right;\n",
              "    }\n",
              "</style>\n",
              "<table border=\"1\" class=\"dataframe\">\n",
              "  <thead>\n",
              "    <tr style=\"text-align: right;\">\n",
              "      <th></th>\n",
              "      <th>Length</th>\n",
              "      <th>Diameter</th>\n",
              "      <th>Height</th>\n",
              "      <th>Whole weight</th>\n",
              "      <th>Shucked weight</th>\n",
              "      <th>Viscera weight</th>\n",
              "      <th>Shell weight</th>\n",
              "      <th>Age</th>\n",
              "    </tr>\n",
              "  </thead>\n",
              "  <tbody>\n",
              "    <tr>\n",
              "      <th>0</th>\n",
              "      <td>0.435</td>\n",
              "      <td>0.335</td>\n",
              "      <td>0.110</td>\n",
              "      <td>0.334</td>\n",
              "      <td>0.1355</td>\n",
              "      <td>0.0775</td>\n",
              "      <td>0.0965</td>\n",
              "      <td>7</td>\n",
              "    </tr>\n",
              "    <tr>\n",
              "      <th>1</th>\n",
              "      <td>0.585</td>\n",
              "      <td>0.450</td>\n",
              "      <td>0.125</td>\n",
              "      <td>0.874</td>\n",
              "      <td>0.3545</td>\n",
              "      <td>0.2075</td>\n",
              "      <td>0.2250</td>\n",
              "      <td>6</td>\n",
              "    </tr>\n",
              "    <tr>\n",
              "      <th>2</th>\n",
              "      <td>0.655</td>\n",
              "      <td>0.510</td>\n",
              "      <td>0.160</td>\n",
              "      <td>1.092</td>\n",
              "      <td>0.3960</td>\n",
              "      <td>0.2825</td>\n",
              "      <td>0.3700</td>\n",
              "      <td>14</td>\n",
              "    </tr>\n",
              "    <tr>\n",
              "      <th>3</th>\n",
              "      <td>0.545</td>\n",
              "      <td>0.425</td>\n",
              "      <td>0.125</td>\n",
              "      <td>0.768</td>\n",
              "      <td>0.2940</td>\n",
              "      <td>0.1495</td>\n",
              "      <td>0.2600</td>\n",
              "      <td>16</td>\n",
              "    </tr>\n",
              "    <tr>\n",
              "      <th>4</th>\n",
              "      <td>0.545</td>\n",
              "      <td>0.420</td>\n",
              "      <td>0.130</td>\n",
              "      <td>0.879</td>\n",
              "      <td>0.3740</td>\n",
              "      <td>0.1695</td>\n",
              "      <td>0.2300</td>\n",
              "      <td>13</td>\n",
              "    </tr>\n",
              "  </tbody>\n",
              "</table>\n",
              "</div>"
            ],
            "text/plain": [
              "   Length  Diameter  Height  ...  Viscera weight  Shell weight  Age\n",
              "0   0.435     0.335   0.110  ...          0.0775        0.0965    7\n",
              "1   0.585     0.450   0.125  ...          0.2075        0.2250    6\n",
              "2   0.655     0.510   0.160  ...          0.2825        0.3700   14\n",
              "3   0.545     0.425   0.125  ...          0.1495        0.2600   16\n",
              "4   0.545     0.420   0.130  ...          0.1695        0.2300   13\n",
              "\n",
              "[5 rows x 8 columns]"
            ]
          },
          "metadata": {
            "tags": []
          },
          "execution_count": 20
        }
      ]
    },
    {
      "cell_type": "code",
      "metadata": {
        "colab": {
          "base_uri": "https://localhost:8080/"
        },
        "id": "m41xlX_BG7Xt",
        "outputId": "73381ded-8f4e-4053-80ed-882071d00487"
      },
      "source": [
        "# SEPARATING FEATURES FROM LABELS\r\n",
        "abalone_features = abalone_train.copy()\r\n",
        "abalone_labels = abalone_features.pop('Age')\r\n",
        "abalone_labels.iloc[:5] # CONTAINS ONLY THE AGE COLUMN"
      ],
      "execution_count": 22,
      "outputs": [
        {
          "output_type": "execute_result",
          "data": {
            "text/plain": [
              "0     7\n",
              "1     6\n",
              "2    14\n",
              "3    16\n",
              "4    13\n",
              "Name: Age, dtype: int64"
            ]
          },
          "metadata": {
            "tags": []
          },
          "execution_count": 22
        }
      ]
    },
    {
      "cell_type": "code",
      "metadata": {
        "colab": {
          "base_uri": "https://localhost:8080/"
        },
        "id": "mELJUtC-HorW",
        "outputId": "bbd3714d-9b21-4d0a-e882-58ea0581ce47"
      },
      "source": [
        "abalone_features = np.array(abalone_features)\r\n",
        "abalone_features"
      ],
      "execution_count": 25,
      "outputs": [
        {
          "output_type": "execute_result",
          "data": {
            "text/plain": [
              "array([[0.435, 0.335, 0.11 , ..., 0.136, 0.077, 0.097],\n",
              "       [0.585, 0.45 , 0.125, ..., 0.354, 0.207, 0.225],\n",
              "       [0.655, 0.51 , 0.16 , ..., 0.396, 0.282, 0.37 ],\n",
              "       ...,\n",
              "       [0.53 , 0.42 , 0.13 , ..., 0.374, 0.167, 0.249],\n",
              "       [0.395, 0.315, 0.105, ..., 0.118, 0.091, 0.119],\n",
              "       [0.45 , 0.355, 0.12 , ..., 0.115, 0.067, 0.16 ]])"
            ]
          },
          "metadata": {
            "tags": []
          },
          "execution_count": 25
        }
      ]
    },
    {
      "cell_type": "code",
      "metadata": {
        "id": "oVZ_csK9ItUF"
      },
      "source": [
        "abalone_model = tf.keras.Sequential(\r\n",
        "    [layers.Dense(64),\r\n",
        "    layers.Dense(1)]\r\n",
        ")\r\n",
        "abalone_model.compile(\r\n",
        "    loss = tf.losses.MeanSquaredError(),\r\n",
        "    optimizer = tf.optimizers.Adam()\r\n",
        ")"
      ],
      "execution_count": 29,
      "outputs": []
    },
    {
      "cell_type": "code",
      "metadata": {
        "colab": {
          "base_uri": "https://localhost:8080/"
        },
        "id": "eo_WRZAWJUXf",
        "outputId": "2d1165f9-68c1-4c07-f410-872509f08eb3"
      },
      "source": [
        "abalone_model.fit(abalone_features, abalone_labels, epochs=10)"
      ],
      "execution_count": 30,
      "outputs": [
        {
          "output_type": "stream",
          "text": [
            "Epoch 1/10\n",
            "104/104 [==============================] - 1s 959us/step - loss: 86.6306\n",
            "Epoch 2/10\n",
            "104/104 [==============================] - 0s 989us/step - loss: 17.9320\n",
            "Epoch 3/10\n",
            "104/104 [==============================] - 0s 1ms/step - loss: 8.7594\n",
            "Epoch 4/10\n",
            "104/104 [==============================] - 0s 1ms/step - loss: 8.4302\n",
            "Epoch 5/10\n",
            "104/104 [==============================] - 0s 1ms/step - loss: 8.1285\n",
            "Epoch 6/10\n",
            "104/104 [==============================] - 0s 1ms/step - loss: 7.8911\n",
            "Epoch 7/10\n",
            "104/104 [==============================] - 0s 1ms/step - loss: 7.6239\n",
            "Epoch 8/10\n",
            "104/104 [==============================] - 0s 992us/step - loss: 7.0793\n",
            "Epoch 9/10\n",
            "104/104 [==============================] - 0s 1ms/step - loss: 6.7137\n",
            "Epoch 10/10\n",
            "104/104 [==============================] - 0s 1ms/step - loss: 7.0707\n"
          ],
          "name": "stdout"
        },
        {
          "output_type": "execute_result",
          "data": {
            "text/plain": [
              "<tensorflow.python.keras.callbacks.History at 0x7f4b41306610>"
            ]
          },
          "metadata": {
            "tags": []
          },
          "execution_count": 30
        }
      ]
    },
    {
      "cell_type": "code",
      "metadata": {
        "id": "-cmrEr9rJfM8"
      },
      "source": [
        "# PRECOMPUTE THE LAYER\r\n",
        "# CREATE THE LAYER\r\n",
        "normalize = preprocessing.Normalization()\r\n",
        "normalize.adapt(abalone_features)"
      ],
      "execution_count": 31,
      "outputs": []
    },
    {
      "cell_type": "code",
      "metadata": {
        "colab": {
          "base_uri": "https://localhost:8080/"
        },
        "id": "Zdp6uhjBKC1S",
        "outputId": "2ee4cdeb-11d3-4b55-cbab-0707e937d67a"
      },
      "source": [
        "abalone_model = tf.keras.Sequential(\r\n",
        "    [normalize,\r\n",
        "     layers.Dense(64),\r\n",
        "    layers.Dense(1)]\r\n",
        ")\r\n",
        "abalone_model.compile(\r\n",
        "    loss = tf.losses.MeanSquaredError(),\r\n",
        "    optimizer = tf.optimizers.Adam(),\r\n",
        "    metrics=tf.metrics.MeanAbsoluteError()\r\n",
        ")\r\n",
        "abalone_model.fit(abalone_features, abalone_labels, epochs=10)\r\n"
      ],
      "execution_count": 59,
      "outputs": [
        {
          "output_type": "stream",
          "text": [
            "Epoch 1/10\n",
            "104/104 [==============================] - 1s 2ms/step - loss: 104.1474 - mean_absolute_error: 9.6928\n",
            "Epoch 2/10\n",
            "104/104 [==============================] - 0s 1ms/step - loss: 67.0432 - mean_absolute_error: 7.7386\n",
            "Epoch 3/10\n",
            "104/104 [==============================] - 0s 1ms/step - loss: 26.2323 - mean_absolute_error: 4.3922\n",
            "Epoch 4/10\n",
            "104/104 [==============================] - 0s 1ms/step - loss: 7.2870 - mean_absolute_error: 1.8424\n",
            "Epoch 5/10\n",
            "104/104 [==============================] - 0s 2ms/step - loss: 5.3554 - mean_absolute_error: 1.6452\n",
            "Epoch 6/10\n",
            "104/104 [==============================] - 0s 1ms/step - loss: 5.2749 - mean_absolute_error: 1.6424\n",
            "Epoch 7/10\n",
            "104/104 [==============================] - 0s 2ms/step - loss: 5.2967 - mean_absolute_error: 1.6487\n",
            "Epoch 8/10\n",
            "104/104 [==============================] - 0s 1ms/step - loss: 4.7402 - mean_absolute_error: 1.5886\n",
            "Epoch 9/10\n",
            "104/104 [==============================] - 0s 1ms/step - loss: 4.6868 - mean_absolute_error: 1.5718\n",
            "Epoch 10/10\n",
            "104/104 [==============================] - 0s 1ms/step - loss: 5.1428 - mean_absolute_error: 1.6347\n"
          ],
          "name": "stdout"
        },
        {
          "output_type": "execute_result",
          "data": {
            "text/plain": [
              "<tensorflow.python.keras.callbacks.History at 0x7f4b3940d9d0>"
            ]
          },
          "metadata": {
            "tags": []
          },
          "execution_count": 59
        }
      ]
    },
    {
      "cell_type": "code",
      "metadata": {
        "colab": {
          "base_uri": "https://localhost:8080/"
        },
        "id": "vrtSVyYCKJ3M",
        "outputId": "d1243d7a-c859-4239-8223-add9658fcfb9"
      },
      "source": [
        "dc = dict({\"Length\":[0.655],\r\n",
        "    \"Diameter\":[0.510],\r\n",
        "    \"Height\":[0.160],\r\n",
        "    \"Whole weight\":[1.092],\r\n",
        "    \"Shucked weight\t\":[0.3960],\r\n",
        "    \"Viscera weight\t\":[0.2825],\r\n",
        "    \"Shell weight\":[0.3700]})\t\t\t\t\t\t\r\n",
        "abalone_test = pd.DataFrame.from_dict(dc)\r\n",
        "abalone_model.predict(abalone_test)"
      ],
      "execution_count": 60,
      "outputs": [
        {
          "output_type": "execute_result",
          "data": {
            "text/plain": [
              "array([[13.618]], dtype=float32)"
            ]
          },
          "metadata": {
            "tags": []
          },
          "execution_count": 60
        }
      ]
    }
  ]
}