{
  "nbformat": 4,
  "nbformat_minor": 0,
  "metadata": {
    "colab": {
      "name": "iris_flower_classification_tensorflow.ipynb",
      "provenance": [],
      "authorship_tag": "ABX9TyPhAWRzYKgY+SnUBSNpiLRf",
      "include_colab_link": true
    },
    "kernelspec": {
      "name": "python3",
      "display_name": "Python 3"
    }
  },
  "cells": [
    {
      "cell_type": "markdown",
      "metadata": {
        "id": "view-in-github",
        "colab_type": "text"
      },
      "source": [
        "<a href=\"https://colab.research.google.com/github/JakeSiewJK64/colabNotebooks/blob/master/iris_flower_classification_tensorflow.ipynb\" target=\"_parent\"><img src=\"https://colab.research.google.com/assets/colab-badge.svg\" alt=\"Open In Colab\"/></a>"
      ]
    },
    {
      "cell_type": "code",
      "metadata": {
        "id": "JSaDHv4k1DOw"
      },
      "source": [
        "# importing tensorflow\r\n",
        "%tensorflow_version 2.x"
      ],
      "execution_count": 1,
      "outputs": []
    },
    {
      "cell_type": "code",
      "metadata": {
        "id": "dH6UQd7u1KEI"
      },
      "source": [
        "from __future__ import absolute_import, division, print_function, unicode_literals\r\n",
        "import tensorflow as tf\r\n",
        "import pandas as pd"
      ],
      "execution_count": 2,
      "outputs": []
    },
    {
      "cell_type": "markdown",
      "metadata": {
        "id": "75FZlEOi1cqX"
      },
      "source": [
        "## about our data:\r\n",
        "Objective: to predict\r\n",
        "*   Setosa\r\n",
        "*   Versicolor\r\n",
        "*   Virginica\r\n",
        "\r\n",
        "Information we are given:\r\n",
        "*   Sepal Length\r\n",
        "*   Sepal width\r\n",
        "*   Petal Length\r\n",
        "*   Petal Width"
      ]
    },
    {
      "cell_type": "code",
      "metadata": {
        "id": "5o3L8VGd2BZ9"
      },
      "source": [
        "# importing our data using Tensorflow's \r\n",
        "train_path = tf.keras.utils.get_file(\"iris_training.csv\", \"https://storage.googleapis.com/download.tensorflow.org/data/iris_training.csv\")\r\n",
        "test_path = tf.keras.utils.get_file('iris_testing.csv', 'https://storage.googleapis.com/download.tensorflow.org/data/iris_test.csv')"
      ],
      "execution_count": 12,
      "outputs": []
    },
    {
      "cell_type": "code",
      "metadata": {
        "id": "hLWJddPE35aB"
      },
      "source": [
        "# declaring the column names to read from\r\n",
        "CSV_COLUMN_NAMES = ['SepalLength', 'SepalWidth', 'PetalLength', 'PetalWidth', 'Species']\r\n",
        "SPECIES = ['Setosa', 'Versicolor', 'Virginia']"
      ],
      "execution_count": 25,
      "outputs": []
    },
    {
      "cell_type": "code",
      "metadata": {
        "id": "_mm7U2_v2t8r"
      },
      "source": [
        "# storing datasets into a pandas dataframe\r\n",
        "train = pd.read_csv(train_path, names= CSV_COLUMN_NAMES, header = 0)\r\n",
        "test = pd.read_csv(test_path, names = CSV_COLUMN_NAMES, header = 0)"
      ],
      "execution_count": 28,
      "outputs": []
    },
    {
      "cell_type": "code",
      "metadata": {
        "colab": {
          "base_uri": "https://localhost:8080/",
          "height": 197
        },
        "id": "uljtItj25JLs",
        "outputId": "9586a089-ffee-4ba7-80e7-547fa5b82efe"
      },
      "source": [
        "test.head()"
      ],
      "execution_count": 31,
      "outputs": [
        {
          "output_type": "execute_result",
          "data": {
            "text/html": [
              "<div>\n",
              "<style scoped>\n",
              "    .dataframe tbody tr th:only-of-type {\n",
              "        vertical-align: middle;\n",
              "    }\n",
              "\n",
              "    .dataframe tbody tr th {\n",
              "        vertical-align: top;\n",
              "    }\n",
              "\n",
              "    .dataframe thead th {\n",
              "        text-align: right;\n",
              "    }\n",
              "</style>\n",
              "<table border=\"1\" class=\"dataframe\">\n",
              "  <thead>\n",
              "    <tr style=\"text-align: right;\">\n",
              "      <th></th>\n",
              "      <th>SepalLength</th>\n",
              "      <th>SepalWidth</th>\n",
              "      <th>PetalLength</th>\n",
              "      <th>PetalWidth</th>\n",
              "      <th>Species</th>\n",
              "    </tr>\n",
              "  </thead>\n",
              "  <tbody>\n",
              "    <tr>\n",
              "      <th>0</th>\n",
              "      <td>5.9</td>\n",
              "      <td>3.0</td>\n",
              "      <td>4.2</td>\n",
              "      <td>1.5</td>\n",
              "      <td>1</td>\n",
              "    </tr>\n",
              "    <tr>\n",
              "      <th>1</th>\n",
              "      <td>6.9</td>\n",
              "      <td>3.1</td>\n",
              "      <td>5.4</td>\n",
              "      <td>2.1</td>\n",
              "      <td>2</td>\n",
              "    </tr>\n",
              "    <tr>\n",
              "      <th>2</th>\n",
              "      <td>5.1</td>\n",
              "      <td>3.3</td>\n",
              "      <td>1.7</td>\n",
              "      <td>0.5</td>\n",
              "      <td>0</td>\n",
              "    </tr>\n",
              "    <tr>\n",
              "      <th>3</th>\n",
              "      <td>6.0</td>\n",
              "      <td>3.4</td>\n",
              "      <td>4.5</td>\n",
              "      <td>1.6</td>\n",
              "      <td>1</td>\n",
              "    </tr>\n",
              "    <tr>\n",
              "      <th>4</th>\n",
              "      <td>5.5</td>\n",
              "      <td>2.5</td>\n",
              "      <td>4.0</td>\n",
              "      <td>1.3</td>\n",
              "      <td>1</td>\n",
              "    </tr>\n",
              "  </tbody>\n",
              "</table>\n",
              "</div>"
            ],
            "text/plain": [
              "   SepalLength  SepalWidth  PetalLength  PetalWidth  Species\n",
              "0          5.9         3.0          4.2         1.5        1\n",
              "1          6.9         3.1          5.4         2.1        2\n",
              "2          5.1         3.3          1.7         0.5        0\n",
              "3          6.0         3.4          4.5         1.6        1\n",
              "4          5.5         2.5          4.0         1.3        1"
            ]
          },
          "metadata": {
            "tags": []
          },
          "execution_count": 31
        }
      ]
    },
    {
      "cell_type": "markdown",
      "metadata": {
        "id": "B_92uAWd448_"
      },
      "source": [
        "## Train Test Split"
      ]
    },
    {
      "cell_type": "code",
      "metadata": {
        "colab": {
          "base_uri": "https://localhost:8080/",
          "height": 197
        },
        "id": "yLry0g4o2_g9",
        "outputId": "e89664b4-cadf-4646-decb-b365281ddb90"
      },
      "source": [
        "train_y = train.pop(\"Species\")\r\n",
        "test_y = test.pop(\"Species\")\r\n",
        "train.head()"
      ],
      "execution_count": 32,
      "outputs": [
        {
          "output_type": "execute_result",
          "data": {
            "text/html": [
              "<div>\n",
              "<style scoped>\n",
              "    .dataframe tbody tr th:only-of-type {\n",
              "        vertical-align: middle;\n",
              "    }\n",
              "\n",
              "    .dataframe tbody tr th {\n",
              "        vertical-align: top;\n",
              "    }\n",
              "\n",
              "    .dataframe thead th {\n",
              "        text-align: right;\n",
              "    }\n",
              "</style>\n",
              "<table border=\"1\" class=\"dataframe\">\n",
              "  <thead>\n",
              "    <tr style=\"text-align: right;\">\n",
              "      <th></th>\n",
              "      <th>SepalLength</th>\n",
              "      <th>SepalWidth</th>\n",
              "      <th>PetalLength</th>\n",
              "      <th>PetalWidth</th>\n",
              "    </tr>\n",
              "  </thead>\n",
              "  <tbody>\n",
              "    <tr>\n",
              "      <th>0</th>\n",
              "      <td>6.4</td>\n",
              "      <td>2.8</td>\n",
              "      <td>5.6</td>\n",
              "      <td>2.2</td>\n",
              "    </tr>\n",
              "    <tr>\n",
              "      <th>1</th>\n",
              "      <td>5.0</td>\n",
              "      <td>2.3</td>\n",
              "      <td>3.3</td>\n",
              "      <td>1.0</td>\n",
              "    </tr>\n",
              "    <tr>\n",
              "      <th>2</th>\n",
              "      <td>4.9</td>\n",
              "      <td>2.5</td>\n",
              "      <td>4.5</td>\n",
              "      <td>1.7</td>\n",
              "    </tr>\n",
              "    <tr>\n",
              "      <th>3</th>\n",
              "      <td>4.9</td>\n",
              "      <td>3.1</td>\n",
              "      <td>1.5</td>\n",
              "      <td>0.1</td>\n",
              "    </tr>\n",
              "    <tr>\n",
              "      <th>4</th>\n",
              "      <td>5.7</td>\n",
              "      <td>3.8</td>\n",
              "      <td>1.7</td>\n",
              "      <td>0.3</td>\n",
              "    </tr>\n",
              "  </tbody>\n",
              "</table>\n",
              "</div>"
            ],
            "text/plain": [
              "   SepalLength  SepalWidth  PetalLength  PetalWidth\n",
              "0          6.4         2.8          5.6         2.2\n",
              "1          5.0         2.3          3.3         1.0\n",
              "2          4.9         2.5          4.5         1.7\n",
              "3          4.9         3.1          1.5         0.1\n",
              "4          5.7         3.8          1.7         0.3"
            ]
          },
          "metadata": {
            "tags": []
          },
          "execution_count": 32
        }
      ]
    },
    {
      "cell_type": "markdown",
      "metadata": {
        "id": "ZmFOoZwg5kJ2"
      },
      "source": [
        "## Writing the input function"
      ]
    },
    {
      "cell_type": "code",
      "metadata": {
        "id": "l4p8dNQ25Ti8"
      },
      "source": [
        "def input_fn(features, labels, training = True, batch_size = 256):\r\n",
        "  # convert the inputs into a dataset\r\n",
        "  dataset = tf.data.Dataset.from_tensor_slices((dict(features), labels))\r\n",
        "\r\n",
        "  if training:\r\n",
        "    dataset = dataset.shuffle(1000).repeat()\r\n",
        "  return dataset.batch(batch_size)"
      ],
      "execution_count": 40,
      "outputs": []
    },
    {
      "cell_type": "markdown",
      "metadata": {
        "id": "elwiN2AP7LLs"
      },
      "source": [
        "## Creating the feature column"
      ]
    },
    {
      "cell_type": "code",
      "metadata": {
        "id": "7la_--fD5h_F"
      },
      "source": [
        "# feature columns describe \r\n",
        "my_feature_columns = []\r\n",
        "for key in train.keys():\r\n",
        "  my_feature_columns.append(tf.feature_column.numeric_column(key = key))"
      ],
      "execution_count": 43,
      "outputs": []
    },
    {
      "cell_type": "code",
      "metadata": {
        "colab": {
          "base_uri": "https://localhost:8080/"
        },
        "id": "hXbJo-Pk-PBK",
        "outputId": "bde5daf4-55a7-43e2-90cf-d1c900afdb6e"
      },
      "source": [
        "my_feature_columns"
      ],
      "execution_count": 44,
      "outputs": [
        {
          "output_type": "execute_result",
          "data": {
            "text/plain": [
              "[NumericColumn(key='SepalLength', shape=(1,), default_value=None, dtype=tf.float32, normalizer_fn=None),\n",
              " NumericColumn(key='SepalWidth', shape=(1,), default_value=None, dtype=tf.float32, normalizer_fn=None),\n",
              " NumericColumn(key='PetalLength', shape=(1,), default_value=None, dtype=tf.float32, normalizer_fn=None),\n",
              " NumericColumn(key='PetalWidth', shape=(1,), default_value=None, dtype=tf.float32, normalizer_fn=None)]"
            ]
          },
          "metadata": {
            "tags": []
          },
          "execution_count": 44
        }
      ]
    },
    {
      "cell_type": "markdown",
      "metadata": {
        "id": "3OtkSfpC-rqJ"
      },
      "source": [
        "## building our model\r\n",
        "- ```DNNClassifier```\r\n",
        "- ```LinearClassifier```"
      ]
    },
    {
      "cell_type": "code",
      "metadata": {
        "colab": {
          "base_uri": "https://localhost:8080/"
        },
        "id": "F4RRkhvk-TCx",
        "outputId": "ae004d62-5b31-4d98-f54d-62158aa7125a"
      },
      "source": [
        "# building our DNN with 2 hidden layers with 30 and 10 hidden nodes each\r\n",
        "classifier = tf.estimator.DNNClassifier(feature_columns = my_feature_columns, hidden_units = [30, 10], n_classes=3)"
      ],
      "execution_count": 46,
      "outputs": [
        {
          "output_type": "stream",
          "text": [
            "INFO:tensorflow:Using default config.\n",
            "WARNING:tensorflow:Using temporary folder as model directory: /tmp/tmpqmsj9va1\n",
            "INFO:tensorflow:Using config: {'_model_dir': '/tmp/tmpqmsj9va1', '_tf_random_seed': None, '_save_summary_steps': 100, '_save_checkpoints_steps': None, '_save_checkpoints_secs': 600, '_session_config': allow_soft_placement: true\n",
            "graph_options {\n",
            "  rewrite_options {\n",
            "    meta_optimizer_iterations: ONE\n",
            "  }\n",
            "}\n",
            ", '_keep_checkpoint_max': 5, '_keep_checkpoint_every_n_hours': 10000, '_log_step_count_steps': 100, '_train_distribute': None, '_device_fn': None, '_protocol': None, '_eval_distribute': None, '_experimental_distribute': None, '_experimental_max_worker_delay_secs': None, '_session_creation_timeout_secs': 7200, '_checkpoint_save_graph_def': True, '_service': None, '_cluster_spec': ClusterSpec({}), '_task_type': 'worker', '_task_id': 0, '_global_id_in_cluster': 0, '_master': '', '_evaluation_master': '', '_is_chief': True, '_num_ps_replicas': 0, '_num_worker_replicas': 1}\n"
          ],
          "name": "stdout"
        }
      ]
    },
    {
      "cell_type": "markdown",
      "metadata": {
        "id": "4J_JiOlI_Z8h"
      },
      "source": [
        "## Training the model"
      ]
    },
    {
      "cell_type": "code",
      "metadata": {
        "colab": {
          "base_uri": "https://localhost:8080/"
        },
        "id": "4AZg8Y0j_M0J",
        "outputId": "901328ae-46bc-4800-e139-955363e0770b"
      },
      "source": [
        "# the lambda is to avoid creating an inner function\r\n",
        "classifier.train(input_fn = lambda: input_fn(train, train_y, training = True), steps = 15000)"
      ],
      "execution_count": 55,
      "outputs": [
        {
          "output_type": "stream",
          "text": [
            "INFO:tensorflow:Calling model_fn.\n",
            "INFO:tensorflow:Done calling model_fn.\n",
            "INFO:tensorflow:Create CheckpointSaverHook.\n",
            "INFO:tensorflow:Graph was finalized.\n",
            "INFO:tensorflow:Restoring parameters from /tmp/tmpqmsj9va1/model.ckpt-15051\n",
            "INFO:tensorflow:Running local_init_op.\n",
            "INFO:tensorflow:Done running local_init_op.\n",
            "INFO:tensorflow:Calling checkpoint listeners before saving checkpoint 15051...\n",
            "INFO:tensorflow:Saving checkpoints for 15051 into /tmp/tmpqmsj9va1/model.ckpt.\n",
            "INFO:tensorflow:Calling checkpoint listeners after saving checkpoint 15051...\n",
            "INFO:tensorflow:loss = 0.24440637, step = 15051\n",
            "INFO:tensorflow:global_step/sec: 444.229\n",
            "INFO:tensorflow:loss = 0.25161994, step = 15151 (0.227 sec)\n",
            "INFO:tensorflow:global_step/sec: 508.883\n",
            "INFO:tensorflow:loss = 0.23808728, step = 15251 (0.198 sec)\n",
            "INFO:tensorflow:global_step/sec: 577.788\n",
            "INFO:tensorflow:loss = 0.24263838, step = 15351 (0.170 sec)\n",
            "INFO:tensorflow:global_step/sec: 583.649\n",
            "INFO:tensorflow:loss = 0.24601823, step = 15451 (0.171 sec)\n",
            "INFO:tensorflow:global_step/sec: 530.105\n",
            "INFO:tensorflow:loss = 0.23817307, step = 15551 (0.189 sec)\n",
            "INFO:tensorflow:global_step/sec: 449.298\n",
            "INFO:tensorflow:loss = 0.25131616, step = 15651 (0.222 sec)\n",
            "INFO:tensorflow:global_step/sec: 516.457\n",
            "INFO:tensorflow:loss = 0.24722919, step = 15751 (0.194 sec)\n",
            "INFO:tensorflow:global_step/sec: 556.343\n",
            "INFO:tensorflow:loss = 0.24294123, step = 15851 (0.180 sec)\n",
            "INFO:tensorflow:global_step/sec: 553.788\n",
            "INFO:tensorflow:loss = 0.24170795, step = 15951 (0.180 sec)\n",
            "INFO:tensorflow:global_step/sec: 533.426\n",
            "INFO:tensorflow:loss = 0.2391638, step = 16051 (0.191 sec)\n",
            "INFO:tensorflow:global_step/sec: 529.558\n",
            "INFO:tensorflow:loss = 0.23581766, step = 16151 (0.186 sec)\n",
            "INFO:tensorflow:global_step/sec: 587.238\n",
            "INFO:tensorflow:loss = 0.24186856, step = 16251 (0.171 sec)\n",
            "INFO:tensorflow:global_step/sec: 572.03\n",
            "INFO:tensorflow:loss = 0.22894925, step = 16351 (0.176 sec)\n",
            "INFO:tensorflow:global_step/sec: 558.656\n",
            "INFO:tensorflow:loss = 0.24770093, step = 16451 (0.178 sec)\n",
            "INFO:tensorflow:global_step/sec: 538.263\n",
            "INFO:tensorflow:loss = 0.2279123, step = 16551 (0.189 sec)\n",
            "INFO:tensorflow:global_step/sec: 532.273\n",
            "INFO:tensorflow:loss = 0.23632078, step = 16651 (0.185 sec)\n",
            "INFO:tensorflow:global_step/sec: 531.436\n",
            "INFO:tensorflow:loss = 0.22592393, step = 16751 (0.187 sec)\n",
            "INFO:tensorflow:global_step/sec: 583.405\n",
            "INFO:tensorflow:loss = 0.22645156, step = 16851 (0.175 sec)\n",
            "INFO:tensorflow:global_step/sec: 559.674\n",
            "INFO:tensorflow:loss = 0.22859687, step = 16951 (0.178 sec)\n",
            "INFO:tensorflow:global_step/sec: 591.832\n",
            "INFO:tensorflow:loss = 0.22873366, step = 17051 (0.167 sec)\n",
            "INFO:tensorflow:global_step/sec: 566.674\n",
            "INFO:tensorflow:loss = 0.2282559, step = 17151 (0.175 sec)\n",
            "INFO:tensorflow:global_step/sec: 533.775\n",
            "INFO:tensorflow:loss = 0.22612414, step = 17251 (0.188 sec)\n",
            "INFO:tensorflow:global_step/sec: 561.866\n",
            "INFO:tensorflow:loss = 0.2399332, step = 17351 (0.178 sec)\n",
            "INFO:tensorflow:global_step/sec: 608.361\n",
            "INFO:tensorflow:loss = 0.2239141, step = 17451 (0.167 sec)\n",
            "INFO:tensorflow:global_step/sec: 593.826\n",
            "INFO:tensorflow:loss = 0.21590248, step = 17551 (0.166 sec)\n",
            "INFO:tensorflow:global_step/sec: 613.945\n",
            "INFO:tensorflow:loss = 0.2215127, step = 17651 (0.163 sec)\n",
            "INFO:tensorflow:global_step/sec: 597.608\n",
            "INFO:tensorflow:loss = 0.22930151, step = 17751 (0.167 sec)\n",
            "INFO:tensorflow:global_step/sec: 505.028\n",
            "INFO:tensorflow:loss = 0.22155502, step = 17851 (0.198 sec)\n",
            "INFO:tensorflow:global_step/sec: 615.019\n",
            "INFO:tensorflow:loss = 0.22182561, step = 17951 (0.165 sec)\n",
            "INFO:tensorflow:global_step/sec: 589.582\n",
            "INFO:tensorflow:loss = 0.22083946, step = 18051 (0.168 sec)\n",
            "INFO:tensorflow:global_step/sec: 547.416\n",
            "INFO:tensorflow:loss = 0.22350231, step = 18151 (0.182 sec)\n",
            "INFO:tensorflow:global_step/sec: 596.038\n",
            "INFO:tensorflow:loss = 0.22062683, step = 18251 (0.168 sec)\n",
            "INFO:tensorflow:global_step/sec: 541.823\n",
            "INFO:tensorflow:loss = 0.21517622, step = 18351 (0.188 sec)\n",
            "INFO:tensorflow:global_step/sec: 565.596\n",
            "INFO:tensorflow:loss = 0.22344851, step = 18451 (0.177 sec)\n",
            "INFO:tensorflow:global_step/sec: 533.435\n",
            "INFO:tensorflow:loss = 0.21831033, step = 18551 (0.185 sec)\n",
            "INFO:tensorflow:global_step/sec: 548.924\n",
            "INFO:tensorflow:loss = 0.21461117, step = 18651 (0.185 sec)\n",
            "INFO:tensorflow:global_step/sec: 564.303\n",
            "INFO:tensorflow:loss = 0.20997362, step = 18751 (0.174 sec)\n",
            "INFO:tensorflow:global_step/sec: 540.999\n",
            "INFO:tensorflow:loss = 0.2120567, step = 18851 (0.184 sec)\n",
            "INFO:tensorflow:global_step/sec: 499.354\n",
            "INFO:tensorflow:loss = 0.20789227, step = 18951 (0.205 sec)\n",
            "INFO:tensorflow:global_step/sec: 476.823\n",
            "INFO:tensorflow:loss = 0.21010417, step = 19051 (0.209 sec)\n",
            "INFO:tensorflow:global_step/sec: 570.818\n",
            "INFO:tensorflow:loss = 0.20940009, step = 19151 (0.174 sec)\n",
            "INFO:tensorflow:global_step/sec: 578.167\n",
            "INFO:tensorflow:loss = 0.21342193, step = 19251 (0.171 sec)\n",
            "INFO:tensorflow:global_step/sec: 598.916\n",
            "INFO:tensorflow:loss = 0.20788395, step = 19351 (0.166 sec)\n",
            "INFO:tensorflow:global_step/sec: 540.209\n",
            "INFO:tensorflow:loss = 0.2088509, step = 19451 (0.186 sec)\n",
            "INFO:tensorflow:global_step/sec: 555.616\n",
            "INFO:tensorflow:loss = 0.20567927, step = 19551 (0.180 sec)\n",
            "INFO:tensorflow:global_step/sec: 614.138\n",
            "INFO:tensorflow:loss = 0.20846555, step = 19651 (0.165 sec)\n",
            "INFO:tensorflow:global_step/sec: 587.784\n",
            "INFO:tensorflow:loss = 0.21552035, step = 19751 (0.171 sec)\n",
            "INFO:tensorflow:global_step/sec: 568.869\n",
            "INFO:tensorflow:loss = 0.20525542, step = 19851 (0.172 sec)\n",
            "INFO:tensorflow:global_step/sec: 584.992\n",
            "INFO:tensorflow:loss = 0.19723709, step = 19951 (0.172 sec)\n",
            "INFO:tensorflow:global_step/sec: 555.661\n",
            "INFO:tensorflow:loss = 0.20572671, step = 20051 (0.180 sec)\n",
            "INFO:tensorflow:global_step/sec: 481.387\n",
            "INFO:tensorflow:loss = 0.20142126, step = 20151 (0.208 sec)\n",
            "INFO:tensorflow:global_step/sec: 504.634\n",
            "INFO:tensorflow:loss = 0.2011464, step = 20251 (0.201 sec)\n",
            "INFO:tensorflow:global_step/sec: 495.644\n",
            "INFO:tensorflow:loss = 0.19886377, step = 20351 (0.202 sec)\n",
            "INFO:tensorflow:global_step/sec: 516.744\n",
            "INFO:tensorflow:loss = 0.19539566, step = 20451 (0.193 sec)\n",
            "INFO:tensorflow:global_step/sec: 512.764\n",
            "INFO:tensorflow:loss = 0.20242432, step = 20551 (0.192 sec)\n",
            "INFO:tensorflow:global_step/sec: 493.215\n",
            "INFO:tensorflow:loss = 0.19381896, step = 20651 (0.206 sec)\n",
            "INFO:tensorflow:global_step/sec: 491.759\n",
            "INFO:tensorflow:loss = 0.19557121, step = 20751 (0.202 sec)\n",
            "INFO:tensorflow:global_step/sec: 543.795\n",
            "INFO:tensorflow:loss = 0.20515534, step = 20851 (0.181 sec)\n",
            "INFO:tensorflow:global_step/sec: 576.252\n",
            "INFO:tensorflow:loss = 0.19737756, step = 20951 (0.173 sec)\n",
            "INFO:tensorflow:global_step/sec: 519.64\n",
            "INFO:tensorflow:loss = 0.19288647, step = 21051 (0.193 sec)\n",
            "INFO:tensorflow:global_step/sec: 502.081\n",
            "INFO:tensorflow:loss = 0.19005004, step = 21151 (0.202 sec)\n",
            "INFO:tensorflow:global_step/sec: 527.386\n",
            "INFO:tensorflow:loss = 0.2016146, step = 21251 (0.190 sec)\n",
            "INFO:tensorflow:global_step/sec: 502.697\n",
            "INFO:tensorflow:loss = 0.18881668, step = 21351 (0.197 sec)\n",
            "INFO:tensorflow:global_step/sec: 449.247\n",
            "INFO:tensorflow:loss = 0.19992858, step = 21451 (0.222 sec)\n",
            "INFO:tensorflow:global_step/sec: 529.516\n",
            "INFO:tensorflow:loss = 0.1935486, step = 21551 (0.190 sec)\n",
            "INFO:tensorflow:global_step/sec: 577.74\n",
            "INFO:tensorflow:loss = 0.19116034, step = 21651 (0.172 sec)\n",
            "INFO:tensorflow:global_step/sec: 517.376\n",
            "INFO:tensorflow:loss = 0.19322196, step = 21751 (0.192 sec)\n",
            "INFO:tensorflow:global_step/sec: 595.178\n",
            "INFO:tensorflow:loss = 0.19217248, step = 21851 (0.171 sec)\n",
            "INFO:tensorflow:global_step/sec: 599.785\n",
            "INFO:tensorflow:loss = 0.18659815, step = 21951 (0.164 sec)\n",
            "INFO:tensorflow:global_step/sec: 554.009\n",
            "INFO:tensorflow:loss = 0.19156346, step = 22051 (0.183 sec)\n",
            "INFO:tensorflow:global_step/sec: 595.063\n",
            "INFO:tensorflow:loss = 0.1871182, step = 22151 (0.166 sec)\n",
            "INFO:tensorflow:global_step/sec: 567.5\n",
            "INFO:tensorflow:loss = 0.18305203, step = 22251 (0.176 sec)\n",
            "INFO:tensorflow:global_step/sec: 587.806\n",
            "INFO:tensorflow:loss = 0.18726924, step = 22351 (0.170 sec)\n",
            "INFO:tensorflow:global_step/sec: 572.46\n",
            "INFO:tensorflow:loss = 0.19564554, step = 22451 (0.178 sec)\n",
            "INFO:tensorflow:global_step/sec: 557.169\n",
            "INFO:tensorflow:loss = 0.18474084, step = 22551 (0.176 sec)\n",
            "INFO:tensorflow:global_step/sec: 566.869\n",
            "INFO:tensorflow:loss = 0.18637787, step = 22651 (0.177 sec)\n",
            "INFO:tensorflow:global_step/sec: 529.097\n",
            "INFO:tensorflow:loss = 0.18861717, step = 22751 (0.192 sec)\n",
            "INFO:tensorflow:global_step/sec: 522.265\n",
            "INFO:tensorflow:loss = 0.18136016, step = 22851 (0.189 sec)\n",
            "INFO:tensorflow:global_step/sec: 531.88\n",
            "INFO:tensorflow:loss = 0.18566293, step = 22951 (0.191 sec)\n",
            "INFO:tensorflow:global_step/sec: 558.595\n",
            "INFO:tensorflow:loss = 0.17076708, step = 23051 (0.175 sec)\n",
            "INFO:tensorflow:global_step/sec: 581.901\n",
            "INFO:tensorflow:loss = 0.1857593, step = 23151 (0.172 sec)\n",
            "INFO:tensorflow:global_step/sec: 537.492\n",
            "INFO:tensorflow:loss = 0.17123045, step = 23251 (0.189 sec)\n",
            "INFO:tensorflow:global_step/sec: 519.51\n",
            "INFO:tensorflow:loss = 0.18252125, step = 23351 (0.196 sec)\n",
            "INFO:tensorflow:global_step/sec: 534.946\n",
            "INFO:tensorflow:loss = 0.1828186, step = 23451 (0.183 sec)\n",
            "INFO:tensorflow:global_step/sec: 562.714\n",
            "INFO:tensorflow:loss = 0.17974742, step = 23551 (0.178 sec)\n",
            "INFO:tensorflow:global_step/sec: 555.059\n",
            "INFO:tensorflow:loss = 0.1829499, step = 23651 (0.179 sec)\n",
            "INFO:tensorflow:global_step/sec: 477.647\n",
            "INFO:tensorflow:loss = 0.17954168, step = 23751 (0.209 sec)\n",
            "INFO:tensorflow:global_step/sec: 474.213\n",
            "INFO:tensorflow:loss = 0.17236684, step = 23851 (0.211 sec)\n",
            "INFO:tensorflow:global_step/sec: 556.585\n",
            "INFO:tensorflow:loss = 0.17120399, step = 23951 (0.180 sec)\n",
            "INFO:tensorflow:global_step/sec: 577.252\n",
            "INFO:tensorflow:loss = 0.17249992, step = 24051 (0.172 sec)\n",
            "INFO:tensorflow:global_step/sec: 545.14\n",
            "INFO:tensorflow:loss = 0.17679057, step = 24151 (0.187 sec)\n",
            "INFO:tensorflow:global_step/sec: 593.901\n",
            "INFO:tensorflow:loss = 0.17112477, step = 24251 (0.168 sec)\n",
            "INFO:tensorflow:global_step/sec: 563.532\n",
            "INFO:tensorflow:loss = 0.16889083, step = 24351 (0.175 sec)\n",
            "INFO:tensorflow:global_step/sec: 577.974\n",
            "INFO:tensorflow:loss = 0.16094032, step = 24451 (0.173 sec)\n",
            "INFO:tensorflow:global_step/sec: 603.421\n",
            "INFO:tensorflow:loss = 0.1697369, step = 24551 (0.170 sec)\n",
            "INFO:tensorflow:global_step/sec: 594.524\n",
            "INFO:tensorflow:loss = 0.16910018, step = 24651 (0.163 sec)\n",
            "INFO:tensorflow:global_step/sec: 606.109\n",
            "INFO:tensorflow:loss = 0.16467449, step = 24751 (0.165 sec)\n",
            "INFO:tensorflow:global_step/sec: 593.886\n",
            "INFO:tensorflow:loss = 0.16192415, step = 24851 (0.171 sec)\n",
            "INFO:tensorflow:global_step/sec: 579.319\n",
            "INFO:tensorflow:loss = 0.16791424, step = 24951 (0.173 sec)\n",
            "INFO:tensorflow:global_step/sec: 610.168\n",
            "INFO:tensorflow:loss = 0.16821635, step = 25051 (0.161 sec)\n",
            "INFO:tensorflow:global_step/sec: 614.776\n",
            "INFO:tensorflow:loss = 0.17568064, step = 25151 (0.164 sec)\n",
            "INFO:tensorflow:global_step/sec: 604.607\n",
            "INFO:tensorflow:loss = 0.16405728, step = 25251 (0.167 sec)\n",
            "INFO:tensorflow:global_step/sec: 580.062\n",
            "INFO:tensorflow:loss = 0.16307078, step = 25351 (0.172 sec)\n",
            "INFO:tensorflow:global_step/sec: 619.252\n",
            "INFO:tensorflow:loss = 0.16188885, step = 25451 (0.159 sec)\n",
            "INFO:tensorflow:global_step/sec: 532.76\n",
            "INFO:tensorflow:loss = 0.1587757, step = 25551 (0.191 sec)\n",
            "INFO:tensorflow:global_step/sec: 588.916\n",
            "INFO:tensorflow:loss = 0.16250612, step = 25651 (0.166 sec)\n",
            "INFO:tensorflow:global_step/sec: 579.72\n",
            "INFO:tensorflow:loss = 0.17134473, step = 25751 (0.177 sec)\n",
            "INFO:tensorflow:global_step/sec: 582.866\n",
            "INFO:tensorflow:loss = 0.1593497, step = 25851 (0.167 sec)\n",
            "INFO:tensorflow:global_step/sec: 589.9\n",
            "INFO:tensorflow:loss = 0.15900572, step = 25951 (0.172 sec)\n",
            "INFO:tensorflow:global_step/sec: 584.839\n",
            "INFO:tensorflow:loss = 0.17013514, step = 26051 (0.168 sec)\n",
            "INFO:tensorflow:global_step/sec: 551.802\n",
            "INFO:tensorflow:loss = 0.16409355, step = 26151 (0.181 sec)\n",
            "INFO:tensorflow:global_step/sec: 552.308\n",
            "INFO:tensorflow:loss = 0.1589781, step = 26251 (0.181 sec)\n",
            "INFO:tensorflow:global_step/sec: 537.285\n",
            "INFO:tensorflow:loss = 0.15238342, step = 26351 (0.186 sec)\n",
            "INFO:tensorflow:global_step/sec: 569.937\n",
            "INFO:tensorflow:loss = 0.15511401, step = 26451 (0.178 sec)\n",
            "INFO:tensorflow:global_step/sec: 606.79\n",
            "INFO:tensorflow:loss = 0.16581473, step = 26551 (0.162 sec)\n",
            "INFO:tensorflow:global_step/sec: 527.821\n",
            "INFO:tensorflow:loss = 0.15552895, step = 26651 (0.189 sec)\n",
            "INFO:tensorflow:global_step/sec: 564.629\n",
            "INFO:tensorflow:loss = 0.15546393, step = 26751 (0.180 sec)\n",
            "INFO:tensorflow:global_step/sec: 555.912\n",
            "INFO:tensorflow:loss = 0.15805897, step = 26851 (0.176 sec)\n",
            "INFO:tensorflow:global_step/sec: 529.943\n",
            "INFO:tensorflow:loss = 0.15531597, step = 26951 (0.189 sec)\n",
            "INFO:tensorflow:global_step/sec: 565.326\n",
            "INFO:tensorflow:loss = 0.15895873, step = 27051 (0.180 sec)\n",
            "INFO:tensorflow:global_step/sec: 529.564\n",
            "INFO:tensorflow:loss = 0.14508858, step = 27151 (0.189 sec)\n",
            "INFO:tensorflow:global_step/sec: 494.781\n",
            "INFO:tensorflow:loss = 0.14871407, step = 27251 (0.199 sec)\n",
            "INFO:tensorflow:global_step/sec: 461.537\n",
            "INFO:tensorflow:loss = 0.15101162, step = 27351 (0.217 sec)\n",
            "INFO:tensorflow:global_step/sec: 516.923\n",
            "INFO:tensorflow:loss = 0.1567216, step = 27451 (0.198 sec)\n",
            "INFO:tensorflow:global_step/sec: 544.133\n",
            "INFO:tensorflow:loss = 0.15966567, step = 27551 (0.179 sec)\n",
            "INFO:tensorflow:global_step/sec: 570.204\n",
            "INFO:tensorflow:loss = 0.15381311, step = 27651 (0.176 sec)\n",
            "INFO:tensorflow:global_step/sec: 516.291\n",
            "INFO:tensorflow:loss = 0.14900243, step = 27751 (0.196 sec)\n",
            "INFO:tensorflow:global_step/sec: 542.26\n",
            "INFO:tensorflow:loss = 0.14933151, step = 27851 (0.185 sec)\n",
            "INFO:tensorflow:global_step/sec: 521.305\n",
            "INFO:tensorflow:loss = 0.15184529, step = 27951 (0.189 sec)\n",
            "INFO:tensorflow:global_step/sec: 558.56\n",
            "INFO:tensorflow:loss = 0.14931867, step = 28051 (0.181 sec)\n",
            "INFO:tensorflow:global_step/sec: 575.432\n",
            "INFO:tensorflow:loss = 0.15218708, step = 28151 (0.183 sec)\n",
            "INFO:tensorflow:global_step/sec: 527.521\n",
            "INFO:tensorflow:loss = 0.14733803, step = 28251 (0.181 sec)\n",
            "INFO:tensorflow:global_step/sec: 537.441\n",
            "INFO:tensorflow:loss = 0.15195516, step = 28351 (0.184 sec)\n",
            "INFO:tensorflow:global_step/sec: 546.584\n",
            "INFO:tensorflow:loss = 0.15036851, step = 28451 (0.183 sec)\n",
            "INFO:tensorflow:global_step/sec: 510.422\n",
            "INFO:tensorflow:loss = 0.15605845, step = 28551 (0.195 sec)\n",
            "INFO:tensorflow:global_step/sec: 559.995\n",
            "INFO:tensorflow:loss = 0.15663815, step = 28651 (0.179 sec)\n",
            "INFO:tensorflow:global_step/sec: 576.824\n",
            "INFO:tensorflow:loss = 0.15097544, step = 28751 (0.177 sec)\n",
            "INFO:tensorflow:global_step/sec: 517.024\n",
            "INFO:tensorflow:loss = 0.14576724, step = 28851 (0.191 sec)\n",
            "INFO:tensorflow:global_step/sec: 495.461\n",
            "INFO:tensorflow:loss = 0.15526508, step = 28951 (0.200 sec)\n",
            "INFO:tensorflow:global_step/sec: 503.503\n",
            "INFO:tensorflow:loss = 0.14604715, step = 29051 (0.203 sec)\n",
            "INFO:tensorflow:global_step/sec: 503.612\n",
            "INFO:tensorflow:loss = 0.14323337, step = 29151 (0.197 sec)\n",
            "INFO:tensorflow:global_step/sec: 532\n",
            "INFO:tensorflow:loss = 0.14607453, step = 29251 (0.185 sec)\n",
            "INFO:tensorflow:global_step/sec: 478.348\n",
            "INFO:tensorflow:loss = 0.15311289, step = 29351 (0.211 sec)\n",
            "INFO:tensorflow:global_step/sec: 540.677\n",
            "INFO:tensorflow:loss = 0.142683, step = 29451 (0.184 sec)\n",
            "INFO:tensorflow:global_step/sec: 466.922\n",
            "INFO:tensorflow:loss = 0.14246465, step = 29551 (0.213 sec)\n",
            "INFO:tensorflow:global_step/sec: 542.625\n",
            "INFO:tensorflow:loss = 0.13809682, step = 29651 (0.187 sec)\n",
            "INFO:tensorflow:global_step/sec: 485.436\n",
            "INFO:tensorflow:loss = 0.14602116, step = 29751 (0.209 sec)\n",
            "INFO:tensorflow:global_step/sec: 455.884\n",
            "INFO:tensorflow:loss = 0.13987797, step = 29851 (0.214 sec)\n",
            "INFO:tensorflow:global_step/sec: 550.923\n",
            "INFO:tensorflow:loss = 0.15096259, step = 29951 (0.183 sec)\n",
            "INFO:tensorflow:Calling checkpoint listeners before saving checkpoint 30051...\n",
            "INFO:tensorflow:Saving checkpoints for 30051 into /tmp/tmpqmsj9va1/model.ckpt.\n",
            "WARNING:tensorflow:From /usr/local/lib/python3.6/dist-packages/tensorflow/python/training/saver.py:970: remove_checkpoint (from tensorflow.python.training.checkpoint_management) is deprecated and will be removed in a future version.\n",
            "Instructions for updating:\n",
            "Use standard file APIs to delete files with this prefix.\n",
            "INFO:tensorflow:Calling checkpoint listeners after saving checkpoint 30051...\n",
            "INFO:tensorflow:Loss for final step: 0.14005095.\n"
          ],
          "name": "stdout"
        },
        {
          "output_type": "execute_result",
          "data": {
            "text/plain": [
              "<tensorflow_estimator.python.estimator.canned.dnn.DNNClassifierV2 at 0x7fb96b511e10>"
            ]
          },
          "metadata": {
            "tags": []
          },
          "execution_count": 55
        }
      ]
    },
    {
      "cell_type": "markdown",
      "metadata": {
        "id": "s-9yMK3S_6aV"
      },
      "source": [
        "## Evaluating the end result"
      ]
    },
    {
      "cell_type": "code",
      "metadata": {
        "colab": {
          "base_uri": "https://localhost:8080/"
        },
        "id": "r1sh4Z_o_uP5",
        "outputId": "f5245255-9944-4125-910a-25d36ef59bd4"
      },
      "source": [
        "eval_result = classifier.evaluate(input_fn = lambda: input_fn(test, test_y, training = False))\r\n",
        "print(\"\\nAccuracy: {accuracy: 0.3f}\\n\".format(**eval_result))"
      ],
      "execution_count": 56,
      "outputs": [
        {
          "output_type": "stream",
          "text": [
            "INFO:tensorflow:Calling model_fn.\n",
            "INFO:tensorflow:Done calling model_fn.\n",
            "INFO:tensorflow:Starting evaluation at 2020-12-24T13:49:06Z\n",
            "INFO:tensorflow:Graph was finalized.\n",
            "INFO:tensorflow:Restoring parameters from /tmp/tmpqmsj9va1/model.ckpt-30051\n",
            "INFO:tensorflow:Running local_init_op.\n",
            "INFO:tensorflow:Done running local_init_op.\n",
            "INFO:tensorflow:Inference Time : 0.23156s\n",
            "INFO:tensorflow:Finished evaluation at 2020-12-24-13:49:06\n",
            "INFO:tensorflow:Saving dict for global step 30051: accuracy = 0.96666664, average_loss = 0.15742381, global_step = 30051, loss = 0.15742381\n",
            "INFO:tensorflow:Saving 'checkpoint_path' summary for global step 30051: /tmp/tmpqmsj9va1/model.ckpt-30051\n",
            "\n",
            "Accuracy:  0.967\n",
            "\n"
          ],
          "name": "stdout"
        }
      ]
    },
    {
      "cell_type": "markdown",
      "metadata": {
        "id": "Pm5FTJD9As2F"
      },
      "source": [
        "## Evaluating the result"
      ]
    },
    {
      "cell_type": "code",
      "metadata": {
        "colab": {
          "base_uri": "https://localhost:8080/"
        },
        "id": "6RWKCuaeAQqR",
        "outputId": "cc3091c9-35f7-43f6-e8c2-85c8a6c93be8"
      },
      "source": [
        "def input_fn(features, batch_size = 256):\r\n",
        "  # convert the inputs to a dataset without labels\r\n",
        "  return tf.data.Dataset.from_tensor_slices(dict(features)).batch(batch_size)\r\n",
        "\r\n",
        "features = ['SepalLength', 'SepalWidth', 'PetalLength', 'PetalWidth']\r\n",
        "predict = {}\r\n",
        "\r\n",
        "print(\"Please type numeric values as prompted.\")\r\n",
        "for feature in features:\r\n",
        "  valid = True\r\n",
        "  while valid:\r\n",
        "    val = input(feature + \": \")\r\n",
        "    if not val.isdigit():\r\n",
        "      valid = False\r\n",
        "\r\n",
        "  predict[feature] = [float(val)]\r\n",
        "\r\n",
        "predictions = classifier.predict(input_fn = lambda: input_fn(predict))\r\n",
        "for predict_dict in predictions:\r\n",
        "  class_id = predict_dict['class_ids'][0]\r\n",
        "  probability = predict_dict['probabilities'][class_id]\r\n",
        "\r\n",
        "  print(\"Predict is '{}' ({:.1f}%)\".format(SPECIES[class_id], 100 * probability))\r\n",
        "\r\n",
        "   \r\n",
        "  "
      ],
      "execution_count": 65,
      "outputs": [
        {
          "output_type": "stream",
          "text": [
            "Please type numeric values as prompted.\n",
            "SepalLength: 23\n",
            "SepalLength: 12\n",
            "SepalLength: 12\n",
            "SepalLength: 3\n",
            "SepalLength: 4\n",
            "SepalLength: 2\n",
            "SepalLength: .5\n",
            "SepalWidth: 2\n",
            "SepalWidth: .4\n",
            "PetalLength: .5\n",
            "PetalWidth: .3\n",
            "INFO:tensorflow:Calling model_fn.\n",
            "INFO:tensorflow:Done calling model_fn.\n",
            "INFO:tensorflow:Graph was finalized.\n",
            "INFO:tensorflow:Restoring parameters from /tmp/tmpqmsj9va1/model.ckpt-30051\n",
            "INFO:tensorflow:Running local_init_op.\n",
            "INFO:tensorflow:Done running local_init_op.\n",
            "Predict is 'Setosa' (47.1%)\n"
          ],
          "name": "stdout"
        }
      ]
    },
    {
      "cell_type": "code",
      "metadata": {
        "id": "v-7-LKtZFHWn"
      },
      "source": [
        "# here is some example input and expected classes you can try above\r\n",
        "expected = ['Sentosa', 'Versicolor', 'Virginia']\r\n",
        "predict_x = {\r\n",
        "    'SepalLength': [5.1, 5.9, 6.9],\r\n",
        "    'SepalWidth': [3.3, 3.0, 3.1],\r\n",
        "    'SepalLength': [1.7, 4.2, 5.4],\r\n",
        "    'SepalWidth': [0.5, 1.5, 2.1],\r\n",
        "}"
      ],
      "execution_count": 66,
      "outputs": []
    },
    {
      "cell_type": "code",
      "metadata": {
        "id": "ZFTZQ3tzK1pP"
      },
      "source": [
        ""
      ],
      "execution_count": null,
      "outputs": []
    }
  ]
}