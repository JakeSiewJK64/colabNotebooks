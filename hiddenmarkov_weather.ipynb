{
  "nbformat": 4,
  "nbformat_minor": 0,
  "metadata": {
    "colab": {
      "name": "hiddenmarkov_weather",
      "provenance": [],
      "collapsed_sections": [],
      "authorship_tag": "ABX9TyNOQt+3xOiV7J2DtugZ2Y1U",
      "include_colab_link": true
    },
    "kernelspec": {
      "name": "python3",
      "display_name": "Python 3"
    }
  },
  "cells": [
    {
      "cell_type": "markdown",
      "metadata": {
        "id": "view-in-github",
        "colab_type": "text"
      },
      "source": [
        "<a href=\"https://colab.research.google.com/github/JakeSiewJK64/colabNotebooks/blob/master/hiddenmarkov_weather.ipynb\" target=\"_parent\"><img src=\"https://colab.research.google.com/assets/colab-badge.svg\" alt=\"Open In Colab\"/></a>"
      ]
    },
    {
      "cell_type": "code",
      "metadata": {
        "id": "iNHQrxdzZpFD"
      },
      "source": [
        "%tensorflow_version 2.x"
      ],
      "execution_count": 3,
      "outputs": []
    },
    {
      "cell_type": "code",
      "metadata": {
        "id": "1hukhVE7aVMa"
      },
      "source": [
        "import tensorflow_probability as tfp\r\n",
        "import tensorflow as tf\r\n",
        "import pandas as pd"
      ],
      "execution_count": 7,
      "outputs": []
    },
    {
      "cell_type": "code",
      "metadata": {
        "id": "sI6ceFU9j46t"
      },
      "source": [
        "tfd = tfp.distributions\r\n",
        "initiial_distribution = tfd.Categorical(probs=[0.8, 0.2])\r\n",
        "transition_distribution = tfd.Categorical(probs=[[[0.7, 0.3], [0.2, 0.8]]])\r\n",
        "observation_distribution = tfd.Normal(loc=[0.0, 15.0], scale = [5.0, 10.0])"
      ],
      "execution_count": 9,
      "outputs": []
    },
    {
      "cell_type": "markdown",
      "metadata": {
        "id": "l-nclonUmerc"
      },
      "source": [
        "- loc = mean\r\n",
        "- scale = standard deviation\r\n",
        "**must be float values**"
      ]
    },
    {
      "cell_type": "markdown",
      "metadata": {
        "id": "vFrTbTwAmwKV"
      },
      "source": [
        "## Creating our model"
      ]
    },
    {
      "cell_type": "code",
      "metadata": {
        "id": "mvG2fB0VmT6-"
      },
      "source": [
        "model = tfd.HiddenMarkovModel(\r\n",
        "    initial_distribution = initiial_distribution, \r\n",
        "    transition_distribution = transition_distribution,\r\n",
        "    observation_distribution = observation_distribution,\r\n",
        "    num_steps = 7)\r\n",
        "# how many days we want to predict for"
      ],
      "execution_count": 12,
      "outputs": []
    },
    {
      "cell_type": "code",
      "metadata": {
        "colab": {
          "base_uri": "https://localhost:8080/"
        },
        "id": "_ZszehcwnCXx",
        "outputId": "d423477f-b245-4c7f-978c-c455191e867a"
      },
      "source": [
        "mean = model.mean() # partially defined tensor\r\n",
        "# run a new tensor session\r\n",
        "with tf.compat.v1.Session() as sess:\r\n",
        "  print(mean.numpy())"
      ],
      "execution_count": 17,
      "outputs": [
        {
          "output_type": "stream",
          "text": [
            "[[2.9999998 5.9999995 7.4999995 8.25      8.625001  8.812501  8.90625  ]]\n"
          ],
          "name": "stdout"
        }
      ]
    }
  ]
}