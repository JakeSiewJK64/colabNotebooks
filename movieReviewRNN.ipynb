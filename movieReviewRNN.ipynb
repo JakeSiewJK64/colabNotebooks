{
  "nbformat": 4,
  "nbformat_minor": 0,
  "metadata": {
    "colab": {
      "name": "movieReviewRNN",
      "provenance": [],
      "collapsed_sections": [],
      "authorship_tag": "ABX9TyPAYNFBcN6V7iCBNQev7j/T",
      "include_colab_link": true
    },
    "kernelspec": {
      "name": "python3",
      "display_name": "Python 3"
    },
    "accelerator": "GPU"
  },
  "cells": [
    {
      "cell_type": "markdown",
      "metadata": {
        "id": "view-in-github",
        "colab_type": "text"
      },
      "source": [
        "<a href=\"https://colab.research.google.com/github/JakeSiewJK64/colabNotebooks/blob/master/movieReviewRNN.ipynb\" target=\"_parent\"><img src=\"https://colab.research.google.com/assets/colab-badge.svg\" alt=\"Open In Colab\"/></a>"
      ]
    },
    {
      "cell_type": "markdown",
      "metadata": {
        "id": "Fpl0Pmi4BpyW"
      },
      "source": [
        "# Movie Review Sentiment Analysis\r\n",
        "Dataset: from keras import imdb"
      ]
    },
    {
      "cell_type": "code",
      "metadata": {
        "id": "r9qYeA5GBm4F"
      },
      "source": [
        "%tensorflow_version 2.x\r\n",
        "\r\n",
        "import keras.preprocessing.sequence as sequence\r\n",
        "import keras.datasets.imdb as imdb\r\n",
        "\r\n",
        "import tensorflow as tf\r\n",
        "import keras\r\n",
        "import os\r\n",
        "import numpy as np"
      ],
      "execution_count": 5,
      "outputs": []
    },
    {
      "cell_type": "code",
      "metadata": {
        "id": "1A9tTWtSCIPp"
      },
      "source": [
        "VOCAB_SIZE = 88584\r\n",
        "MAXLEN = 250\r\n",
        "BATCH_SIZE = 64"
      ],
      "execution_count": 6,
      "outputs": []
    },
    {
      "cell_type": "code",
      "metadata": {
        "colab": {
          "base_uri": "https://localhost:8080/"
        },
        "id": "3d6Dtl8kDabD",
        "outputId": "253a699b-2ec9-4dae-8d23-7ccbff7405a0"
      },
      "source": [
        "(train_data, train_labels),(test_data, test_labels) = imdb.load_data(num_words=VOCAB_SIZE)"
      ],
      "execution_count": 7,
      "outputs": [
        {
          "output_type": "stream",
          "text": [
            "Downloading data from https://storage.googleapis.com/tensorflow/tf-keras-datasets/imdb.npz\n",
            "17465344/17464789 [==============================] - 0s 0us/step\n"
          ],
          "name": "stdout"
        },
        {
          "output_type": "stream",
          "text": [
            "<string>:6: VisibleDeprecationWarning: Creating an ndarray from ragged nested sequences (which is a list-or-tuple of lists-or-tuples-or ndarrays with different lengths or shapes) is deprecated. If you meant to do this, you must specify 'dtype=object' when creating the ndarray\n",
            "/usr/local/lib/python3.6/dist-packages/tensorflow/python/keras/datasets/imdb.py:159: VisibleDeprecationWarning: Creating an ndarray from ragged nested sequences (which is a list-or-tuple of lists-or-tuples-or ndarrays with different lengths or shapes) is deprecated. If you meant to do this, you must specify 'dtype=object' when creating the ndarray\n",
            "  x_train, y_train = np.array(xs[:idx]), np.array(labels[:idx])\n",
            "/usr/local/lib/python3.6/dist-packages/tensorflow/python/keras/datasets/imdb.py:160: VisibleDeprecationWarning: Creating an ndarray from ragged nested sequences (which is a list-or-tuple of lists-or-tuples-or ndarrays with different lengths or shapes) is deprecated. If you meant to do this, you must specify 'dtype=object' when creating the ndarray\n",
            "  x_test, y_test = np.array(xs[idx:]), np.array(labels[idx:])\n"
          ],
          "name": "stderr"
        }
      ]
    },
    {
      "cell_type": "markdown",
      "metadata": {
        "id": "s5h9riC4EAft"
      },
      "source": [
        "## Data Preprocessing\r\n",
        "- if the review has less than 250 words we add more 0s until we reach 250\r\n",
        "- else, if we exceed 250 words we trim off the extra words"
      ]
    },
    {
      "cell_type": "code",
      "metadata": {
        "id": "8lpm0r9NDz86"
      },
      "source": [
        "train_data = sequence.pad_sequences(train_data, MAXLEN)\r\n",
        "test_data = sequence.pad_sequences(test_data, MAXLEN)"
      ],
      "execution_count": 8,
      "outputs": []
    },
    {
      "cell_type": "code",
      "metadata": {
        "colab": {
          "base_uri": "https://localhost:8080/"
        },
        "id": "lBywCunTodQh",
        "outputId": "fe4c153e-1945-48cc-d398-e0d4d7c1b479"
      },
      "source": [
        "train_data[0]\r\n",
        "# 0 is the padding we employed for the correct length"
      ],
      "execution_count": 9,
      "outputs": [
        {
          "output_type": "execute_result",
          "data": {
            "text/plain": [
              "array([    0,     0,     0,     0,     0,     0,     0,     0,     0,\n",
              "           0,     0,     0,     0,     0,     0,     0,     0,     0,\n",
              "           0,     0,     0,     0,     0,     0,     0,     0,     0,\n",
              "           0,     0,     0,     0,     0,     1,    14,    22,    16,\n",
              "          43,   530,   973,  1622,  1385,    65,   458,  4468,    66,\n",
              "        3941,     4,   173,    36,   256,     5,    25,   100,    43,\n",
              "         838,   112,    50,   670, 22665,     9,    35,   480,   284,\n",
              "           5,   150,     4,   172,   112,   167, 21631,   336,   385,\n",
              "          39,     4,   172,  4536,  1111,    17,   546,    38,    13,\n",
              "         447,     4,   192,    50,    16,     6,   147,  2025,    19,\n",
              "          14,    22,     4,  1920,  4613,   469,     4,    22,    71,\n",
              "          87,    12,    16,    43,   530,    38,    76,    15,    13,\n",
              "        1247,     4,    22,    17,   515,    17,    12,    16,   626,\n",
              "          18, 19193,     5,    62,   386,    12,     8,   316,     8,\n",
              "         106,     5,     4,  2223,  5244,    16,   480,    66,  3785,\n",
              "          33,     4,   130,    12,    16,    38,   619,     5,    25,\n",
              "         124,    51,    36,   135,    48,    25,  1415,    33,     6,\n",
              "          22,    12,   215,    28,    77,    52,     5,    14,   407,\n",
              "          16,    82, 10311,     8,     4,   107,   117,  5952,    15,\n",
              "         256,     4, 31050,     7,  3766,     5,   723,    36,    71,\n",
              "          43,   530,   476,    26,   400,   317,    46,     7,     4,\n",
              "       12118,  1029,    13,   104,    88,     4,   381,    15,   297,\n",
              "          98,    32,  2071,    56,    26,   141,     6,   194,  7486,\n",
              "          18,     4,   226,    22,    21,   134,   476,    26,   480,\n",
              "           5,   144,    30,  5535,    18,    51,    36,    28,   224,\n",
              "          92,    25,   104,     4,   226,    65,    16,    38,  1334,\n",
              "          88,    12,    16,   283,     5,    16,  4472,   113,   103,\n",
              "          32,    15,    16,  5345,    19,   178,    32], dtype=int32)"
            ]
          },
          "metadata": {
            "tags": []
          },
          "execution_count": 9
        }
      ]
    },
    {
      "cell_type": "markdown",
      "metadata": {
        "id": "5DkP8JBBEiY3"
      },
      "source": [
        "## Creating the model\r\n",
        "- use word embedding layer as base layer\r\n",
        "- add a LSTM layer to feed into dense node to get predicted sentiment\r\n"
      ]
    },
    {
      "cell_type": "code",
      "metadata": {
        "id": "rmdKpD4gEYrK"
      },
      "source": [
        "model = tf.keras.Sequential([\r\n",
        "          tf.keras.layers.Embedding(VOCAB_SIZE, 32), # find more meaningful representation for the numbers\r\n",
        "          tf.keras.layers.LSTM(32), # 32 dimensions for each word\r\n",
        "          tf.keras.layers.Dense(1, activation='sigmoid') \r\n",
        "          # predict the sentiment 0 to 1 if more than 0.5 is positive review\r\n",
        "          # we didnt use relu because anything less than 0 is immediately 0\r\n",
        "])"
      ],
      "execution_count": 10,
      "outputs": []
    },
    {
      "cell_type": "code",
      "metadata": {
        "colab": {
          "base_uri": "https://localhost:8080/"
        },
        "id": "9dCnJCNFFJ3K",
        "outputId": "ae0578ba-78d2-4be8-c4a4-d1928e335953"
      },
      "source": [
        "model.summary()"
      ],
      "execution_count": 11,
      "outputs": [
        {
          "output_type": "stream",
          "text": [
            "Model: \"sequential\"\n",
            "_________________________________________________________________\n",
            "Layer (type)                 Output Shape              Param #   \n",
            "=================================================================\n",
            "embedding (Embedding)        (None, None, 32)          2834688   \n",
            "_________________________________________________________________\n",
            "lstm (LSTM)                  (None, 32)                8320      \n",
            "_________________________________________________________________\n",
            "dense (Dense)                (None, 1)                 33        \n",
            "=================================================================\n",
            "Total params: 2,843,041\n",
            "Trainable params: 2,843,041\n",
            "Non-trainable params: 0\n",
            "_________________________________________________________________\n"
          ],
          "name": "stdout"
        }
      ]
    },
    {
      "cell_type": "markdown",
      "metadata": {
        "id": "Ev470v4RpTgr"
      },
      "source": [
        "### output for Dense layer is 32 + 1 (bias) = 33"
      ]
    },
    {
      "cell_type": "markdown",
      "metadata": {
        "id": "JMjiIsgTFeKB"
      },
      "source": [
        "## Training the model"
      ]
    },
    {
      "cell_type": "code",
      "metadata": {
        "colab": {
          "base_uri": "https://localhost:8080/"
        },
        "id": "gmTMja4BFNvq",
        "outputId": "f77e8834-bf4d-4618-fb41-7794a97673a6"
      },
      "source": [
        "model.compile(loss='binary_crossentropy', optimizer='rmsprop', metrics=['acc'])\r\n",
        "history = model.fit(train_data, train_labels, epochs=5, validation_split=.2)"
      ],
      "execution_count": 12,
      "outputs": [
        {
          "output_type": "stream",
          "text": [
            "Epoch 1/5\n",
            "625/625 [==============================] - 21s 21ms/step - loss: 0.5296 - acc: 0.7239 - val_loss: 0.2986 - val_acc: 0.8802\n",
            "Epoch 2/5\n",
            "625/625 [==============================] - 12s 20ms/step - loss: 0.2405 - acc: 0.9073 - val_loss: 0.2997 - val_acc: 0.8742\n",
            "Epoch 3/5\n",
            "625/625 [==============================] - 12s 20ms/step - loss: 0.1761 - acc: 0.9366 - val_loss: 0.3022 - val_acc: 0.8844\n",
            "Epoch 4/5\n",
            "625/625 [==============================] - 13s 20ms/step - loss: 0.1420 - acc: 0.9511 - val_loss: 0.2725 - val_acc: 0.8840\n",
            "Epoch 5/5\n",
            "625/625 [==============================] - 13s 20ms/step - loss: 0.1254 - acc: 0.9558 - val_loss: 0.3092 - val_acc: 0.8938\n"
          ],
          "name": "stdout"
        }
      ]
    },
    {
      "cell_type": "markdown",
      "metadata": {
        "id": "jaJ-Q6H7pdCw"
      },
      "source": [
        "hyperparameters:\r\n",
        "- loss: binary_crossentropy: how far we are from the correct probability (0 or 1)\r\n",
        "- optimizer: rmsprop (not important)\r\n",
        "- validation_split: 20% split (20% of training data)\r\n"
      ]
    },
    {
      "cell_type": "markdown",
      "metadata": {
        "id": "gQzC_Tf_FwGo"
      },
      "source": [
        "## Evaluating the results"
      ]
    },
    {
      "cell_type": "code",
      "metadata": {
        "colab": {
          "base_uri": "https://localhost:8080/"
        },
        "id": "iZ4_mfp1FkBq",
        "outputId": "b39026ca-4558-4f2e-bc5b-1b64f6896419"
      },
      "source": [
        "results = model.evaluate(test_data, test_labels)\r\n",
        "print(\"Loss: {:.4f} \\nAccuracy: {:.4f}\".format(results[0], results[1]))"
      ],
      "execution_count": 18,
      "outputs": [
        {
          "output_type": "stream",
          "text": [
            "782/782 [==============================] - 5s 6ms/step - loss: 0.3718 - acc: 0.8715\n",
            "Loss: 0.3718 \n",
            "Accuracy: 0.8715\n"
          ],
          "name": "stdout"
        }
      ]
    },
    {
      "cell_type": "markdown",
      "metadata": {
        "id": "-4v0Q8PFGI1H"
      },
      "source": [
        "## making predictions"
      ]
    },
    {
      "cell_type": "code",
      "metadata": {
        "colab": {
          "base_uri": "https://localhost:8080/"
        },
        "id": "Is9JNJW9F7ES",
        "outputId": "86b715c3-c75e-40ce-fc32-0fc8fd834522"
      },
      "source": [
        "# word to integer\r\n",
        "\r\n",
        "word_index = imdb.get_word_index() \r\n",
        "\r\n",
        "def encode_text(text):\r\n",
        "  tokens = keras.preprocessing.text.text_to_word_sequence(text) # token: individual words\r\n",
        "  print(\"Text to word Sequence: {}\".format(tokens))\r\n",
        "\r\n",
        "  tokens = [word_index[word] if word in word_index else 0 for word in tokens]\r\n",
        "  return sequence.pad_sequences([tokens], MAXLEN)[0] # works on a list of sequences\r\n",
        "\r\n",
        "text = \"that movie was just amazing, so amazing\"\r\n",
        "encoded = encode_text(text)\r\n",
        "print(encoded)"
      ],
      "execution_count": 20,
      "outputs": [
        {
          "output_type": "stream",
          "text": [
            "Text to word Sequence: ['that', 'movie', 'was', 'just', 'amazing', 'so', 'amazing']\n",
            "[  0   0   0   0   0   0   0   0   0   0   0   0   0   0   0   0   0   0\n",
            "   0   0   0   0   0   0   0   0   0   0   0   0   0   0   0   0   0   0\n",
            "   0   0   0   0   0   0   0   0   0   0   0   0   0   0   0   0   0   0\n",
            "   0   0   0   0   0   0   0   0   0   0   0   0   0   0   0   0   0   0\n",
            "   0   0   0   0   0   0   0   0   0   0   0   0   0   0   0   0   0   0\n",
            "   0   0   0   0   0   0   0   0   0   0   0   0   0   0   0   0   0   0\n",
            "   0   0   0   0   0   0   0   0   0   0   0   0   0   0   0   0   0   0\n",
            "   0   0   0   0   0   0   0   0   0   0   0   0   0   0   0   0   0   0\n",
            "   0   0   0   0   0   0   0   0   0   0   0   0   0   0   0   0   0   0\n",
            "   0   0   0   0   0   0   0   0   0   0   0   0   0   0   0   0   0   0\n",
            "   0   0   0   0   0   0   0   0   0   0   0   0   0   0   0   0   0   0\n",
            "   0   0   0   0   0   0   0   0   0   0   0   0   0   0   0   0   0   0\n",
            "   0   0   0   0   0   0   0   0   0   0   0   0   0   0   0   0   0   0\n",
            "   0   0   0   0   0   0   0   0   0  12  17  13  40 477  35 477]\n"
          ],
          "name": "stdout"
        }
      ]
    },
    {
      "cell_type": "code",
      "metadata": {
        "colab": {
          "base_uri": "https://localhost:8080/"
        },
        "id": "1nb4CxAJHOCa",
        "outputId": "1c536298-c046-43eb-9066-d6ebdf508912"
      },
      "source": [
        "# decode function\r\n",
        "# integer to word\r\n",
        "\r\n",
        "reverse_word_index = {value: key for (key, value) in word_index.items()}\r\n",
        "def decode_integers(integers):\r\n",
        "  PAD = 0 # nothing is there if 0\r\n",
        "  text = \"\" \r\n",
        "  for num in integers:\r\n",
        "    if num != PAD:\r\n",
        "      text += reverse_word_index[num] + \" \"\r\n",
        "\r\n",
        "  return text[:-1]\r\n",
        "\r\n",
        "print(\"Text: {}\".format(text))\r\n",
        "print(\"Decoded: {}\".format(decode_integers(encoded)))\r\n",
        "print(\"Encoded: {}\".format(encoded))"
      ],
      "execution_count": 22,
      "outputs": [
        {
          "output_type": "stream",
          "text": [
            "Text: that movie was just amazing, so amazing\n",
            "Decoded: that movie was just amazing so amazing\n",
            "Encoded: [  0   0   0   0   0   0   0   0   0   0   0   0   0   0   0   0   0   0\n",
            "   0   0   0   0   0   0   0   0   0   0   0   0   0   0   0   0   0   0\n",
            "   0   0   0   0   0   0   0   0   0   0   0   0   0   0   0   0   0   0\n",
            "   0   0   0   0   0   0   0   0   0   0   0   0   0   0   0   0   0   0\n",
            "   0   0   0   0   0   0   0   0   0   0   0   0   0   0   0   0   0   0\n",
            "   0   0   0   0   0   0   0   0   0   0   0   0   0   0   0   0   0   0\n",
            "   0   0   0   0   0   0   0   0   0   0   0   0   0   0   0   0   0   0\n",
            "   0   0   0   0   0   0   0   0   0   0   0   0   0   0   0   0   0   0\n",
            "   0   0   0   0   0   0   0   0   0   0   0   0   0   0   0   0   0   0\n",
            "   0   0   0   0   0   0   0   0   0   0   0   0   0   0   0   0   0   0\n",
            "   0   0   0   0   0   0   0   0   0   0   0   0   0   0   0   0   0   0\n",
            "   0   0   0   0   0   0   0   0   0   0   0   0   0   0   0   0   0   0\n",
            "   0   0   0   0   0   0   0   0   0   0   0   0   0   0   0   0   0   0\n",
            "   0   0   0   0   0   0   0   0   0  12  17  13  40 477  35 477]\n"
          ],
          "name": "stdout"
        }
      ]
    },
    {
      "cell_type": "markdown",
      "metadata": {
        "id": "BgYjuGVhICBc"
      },
      "source": [
        "## Make Prediction"
      ]
    },
    {
      "cell_type": "code",
      "metadata": {
        "colab": {
          "base_uri": "https://localhost:8080/"
        },
        "id": "7be2SHXPH-SB",
        "outputId": "37435b7d-f98b-4fee-dc78-100a4c3a0b29"
      },
      "source": [
        "def predict(text):\r\n",
        "  encoded_text = encode_text(text)\r\n",
        "  pred = np.zeros((1, 250))\r\n",
        "  pred[0] = encoded_text\r\n",
        "  result = model.predict(pred)\r\n",
        "  print(\"Positive\")  if result[0] > .5 else print(\"Negative\")\r\n",
        "  print(result[0])\r\n",
        "\r\n",
        "positive_review = \"that movie really great. I really loved it and would definitely watch it again. Was one of the best things I've ever watched\"\r\n",
        "negative_review = \"that movie really sucked. I hated it and wouldn't watch it again. Was one of the worst things I've ever watched\"\r\n",
        "\r\n",
        "predict(positive_review)\r\n",
        "predict(negative_review)"
      ],
      "execution_count": 38,
      "outputs": [
        {
          "output_type": "stream",
          "text": [
            "Text to word Sequence: ['that', 'movie', 'really', 'great', 'i', 'really', 'loved', 'it', 'and', 'would', 'definitely', 'watch', 'it', 'again', 'was', 'one', 'of', 'the', 'best', 'things', \"i've\", 'ever', 'watched']\n",
            "Positive\n",
            "[0.78255945]\n",
            "Text to word Sequence: ['that', 'movie', 'really', 'sucked', 'i', 'hated', 'it', 'and', \"wouldn't\", 'watch', 'it', 'again', 'was', 'one', 'of', 'the', 'worst', 'things', \"i've\", 'ever', 'watched']\n",
            "Negative\n",
            "[0.23189381]\n"
          ],
          "name": "stdout"
        }
      ]
    },
    {
      "cell_type": "code",
      "metadata": {
        "id": "MGzfWOBuIewh"
      },
      "source": [
        ""
      ],
      "execution_count": 16,
      "outputs": []
    }
  ]
}